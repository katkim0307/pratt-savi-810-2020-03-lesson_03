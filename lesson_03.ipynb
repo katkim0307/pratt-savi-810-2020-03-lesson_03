{
 "cells": [
  {
   "cell_type": "markdown",
   "metadata": {},
   "source": [
    "# Lesson 03\n",
    "\n",
    "# If-Elif-Else Conditionals, Spatial Data Models, Introduction to Pandas, GeoPandas\n",
    "\n",
    "\n",
    "![http://www.pratt.edu/tiny_mce/plugins/imagemanager/files/Light_brown_blue22.jpg](http://www.pratt.edu/tiny_mce/plugins/imagemanager/files/Light_brown_blue22.jpg)"
   ]
  },
  {
   "cell_type": "markdown",
   "metadata": {},
   "source": [
    "# Class Links\n",
    "\n",
    "* [Syllabus](https://docs.google.com/document/d/1KHxT-NkaoXXdSNkK8JlzL2FFgmNoxPQ25fwgtXPnbrY)\n",
    "\n",
    "* [Class Google Spreadsheet](https://docs.google.com/spreadsheets/d/1t481r7HjQBbjNtFOABSOlcckzQhdrh12TCzpSYKurI0/edit?usp=sharing)\n",
    "\n",
    "* [Google Meetup Video Hangout](https://meet.google.com/aym-kxae-bzr)\n",
    "\n",
    "  * For United States Dial +1 \n",
    "    * (669) 220-6376\n",
    "  * Enter this PIN when prompted: \n",
    "    * 891 126 706 #\n",
    "  \n",
    "* [GitHub Organization](https://github.com/pratt-savi-810)\n",
    "\n",
    "* [Slack Organization](https://app.slack.com/client/T01068MA75X/C010J3Q2QET)\n",
    "\n",
    "* [Resources](https://github.com/pratt-savi-810/resources)"
   ]
  },
  {
   "cell_type": "markdown",
   "metadata": {
    "toc": true
   },
   "source": [
    "<h1>Table of Contents<span class=\"tocSkip\"></span></h1>\n",
    "<div class=\"toc\"><ul class=\"toc-item\"><li><span><a href=\"#Lesson-03\" data-toc-modified-id=\"Lesson-03-1\">Lesson 03</a></span></li><li><span><a href=\"#If-Elif-Else-Conditionals,-Spatial-Data-Models,-Introduction-to-Pandas,-GeoPandas\" data-toc-modified-id=\"If-Elif-Else-Conditionals,-Spatial-Data-Models,-Introduction-to-Pandas,-GeoPandas-2\">If-Elif-Else Conditionals, Spatial Data Models, Introduction to Pandas, GeoPandas</a></span></li><li><span><a href=\"#Class-Links\" data-toc-modified-id=\"Class-Links-3\">Class Links</a></span></li><li><span><a href=\"#Learning-Objectives\" data-toc-modified-id=\"Learning-Objectives-4\">Learning Objectives</a></span><ul class=\"toc-item\"><li><ul class=\"toc-item\"><li><span><a href=\"#Fork-this-Lesson-Repo\" data-toc-modified-id=\"Fork-this-Lesson-Repo-4.0.1\">Fork this Lesson Repo</a></span></li></ul></li></ul></li><li><span><a href=\"#A-quick-overview-of-Terminal\" data-toc-modified-id=\"A-quick-overview-of-Terminal-5\">A quick overview of Terminal</a></span><ul class=\"toc-item\"><li><ul class=\"toc-item\"><li><ul class=\"toc-item\"><li><span><a href=\"#Open-Your-Terminal\" data-toc-modified-id=\"Open-Your-Terminal-5.0.0.1\">Open Your Terminal</a></span></li></ul></li></ul></li></ul></li><li><span><a href=\"#Geospatial-Data-Models\" data-toc-modified-id=\"Geospatial-Data-Models-6\">Geospatial Data Models</a></span><ul class=\"toc-item\"><li><ul class=\"toc-item\"><li><span><a href=\"#Install-GeoPandas\" data-toc-modified-id=\"Install-GeoPandas-6.0.1\">Install GeoPandas</a></span><ul class=\"toc-item\"><li><span><a href=\"#Command-to-Install-Geopandas\" data-toc-modified-id=\"Command-to-Install-Geopandas-6.0.1.1\">Command to Install Geopandas</a></span></li></ul></li></ul></li><li><span><a href=\"#Geospatial-Data-Models\" data-toc-modified-id=\"Geospatial-Data-Models-6.1\">Geospatial Data Models</a></span><ul class=\"toc-item\"><li><span><a href=\"#Vector-Data-Model\" data-toc-modified-id=\"Vector-Data-Model-6.1.1\">Vector Data Model</a></span></li><li><span><a href=\"#Shapely\" data-toc-modified-id=\"Shapely-6.1.2\">Shapely</a></span></li><li><span><a href=\"#Points\" data-toc-modified-id=\"Points-6.1.3\">Points</a></span></li><li><span><a href=\"#Lines---(LineString)\" data-toc-modified-id=\"Lines---(LineString)-6.1.4\">Lines - (LineString)</a></span></li><li><span><a href=\"#Intersection-of-Two-LineString-Objects\" data-toc-modified-id=\"Intersection-of-Two-LineString-Objects-6.1.5\">Intersection of Two LineString Objects</a></span></li><li><span><a href=\"#Polygons\" data-toc-modified-id=\"Polygons-6.1.6\">Polygons</a></span><ul class=\"toc-item\"><li><span><a href=\"#MultiPoint\" data-toc-modified-id=\"MultiPoint-6.1.6.1\">MultiPoint</a></span></li></ul></li></ul></li><li><span><a href=\"#Folium-(Python---Leaflet)-Mapping-Example\" data-toc-modified-id=\"Folium-(Python---Leaflet)-Mapping-Example-6.2\">Folium (Python - Leaflet) Mapping Example</a></span><ul class=\"toc-item\"><li><ul class=\"toc-item\"><li><span><a href=\"#First-let's-pip-install-folium.\" data-toc-modified-id=\"First-let's-pip-install-folium.-6.2.0.1\">First let's pip install folium.</a></span></li><li><span><a href=\"#Now-let's-save-this-Leaflet-map-as-an-html-webpage.\" data-toc-modified-id=\"Now-let's-save-this-Leaflet-map-as-an-html-webpage.-6.2.0.2\">Now let's save this Leaflet map as an html webpage.</a></span></li></ul></li></ul></li></ul></li><li><span><a href=\"#Finishing-up-From-Lecture-02\" data-toc-modified-id=\"Finishing-up-From-Lecture-02-7\">Finishing up From Lecture 02</a></span><ul class=\"toc-item\"><li><span><a href=\"#Python-Functions-Quick-Review\" data-toc-modified-id=\"Python-Functions-Quick-Review-7.1\">Python Functions Quick Review</a></span><ul class=\"toc-item\"><li><span><a href=\"#Define-your-own-Python-Functions\" data-toc-modified-id=\"Define-your-own-Python-Functions-7.1.1\">Define your own Python Functions</a></span></li><li><span><a href=\"#Python-Package-US---US-state-meta-information\" data-toc-modified-id=\"Python-Package-US---US-state-meta-information-7.1.2\">Python Package US - US state meta information</a></span></li><li><span><a href=\"#Python-function-Print-vs.-Return\" data-toc-modified-id=\"Python-function-Print-vs.-Return-7.1.3\">Python function Print vs. Return</a></span></li></ul></li><li><span><a href=\"#If---Elif---Else-Condition-Flow\" data-toc-modified-id=\"If---Elif---Else-Condition-Flow-7.2\">If - Elif - Else Condition Flow</a></span><ul class=\"toc-item\"><li><span><a href=\"#Now-let's-put-these-conditions-into-a-function\" data-toc-modified-id=\"Now-let's-put-these-conditions-into-a-function-7.2.1\">Now let's put these conditions into a function</a></span></li></ul></li></ul></li><li><span><a href=\"#Introduction-to-Pandas\" data-toc-modified-id=\"Introduction-to-Pandas-8\">Introduction to Pandas</a></span><ul class=\"toc-item\"><li><span><a href=\"#Pandas-DataFrame\" data-toc-modified-id=\"Pandas-DataFrame-8.1\">Pandas DataFrame</a></span></li><li><span><a href=\"#Pandas-Input-Data-Types\" data-toc-modified-id=\"Pandas-Input-Data-Types-8.2\">Pandas Input Data Types</a></span><ul class=\"toc-item\"><li><span><a href=\"#Reading-and-Writing-Pandas-Data\" data-toc-modified-id=\"Reading-and-Writing-Pandas-Data-8.2.1\">Reading and Writing Pandas Data</a></span><ul class=\"toc-item\"><li><span><a href=\"#Let's-import-the-pandas-library-as-pd\" data-toc-modified-id=\"Let's-import-the-pandas-library-as-pd-8.2.1.1\">Let's import the <code>pandas</code> library as <code>pd</code></a></span></li></ul></li><li><span><a href=\"#Let's-work-with-some-real-world-data!!!\" data-toc-modified-id=\"Let's-work-with-some-real-world-data!!!-8.2.2\">Let's work with some real-world data!!!</a></span></li></ul></li><li><span><a href=\"#US-Hospitals-Data\" data-toc-modified-id=\"US-Hospitals-Data-8.3\">US Hospitals Data</a></span></li></ul></li><li><span><a href=\"#Geopandas\" data-toc-modified-id=\"Geopandas-9\">Geopandas</a></span><ul class=\"toc-item\"><li><ul class=\"toc-item\"><li><span><a href=\"#Geopandas-Description\" data-toc-modified-id=\"Geopandas-Description-9.0.1\">Geopandas Description</a></span><ul class=\"toc-item\"><li><span><a href=\"#Geopandas-Installation\" data-toc-modified-id=\"Geopandas-Installation-9.0.1.1\">Geopandas Installation</a></span></li></ul></li><li><span><a href=\"#(THREAD)-Where-have-we-seen-this-POINT-(-...-)-thing-before???\" data-toc-modified-id=\"(THREAD)-Where-have-we-seen-this-POINT-(-...-)-thing-before???-9.0.2\">(THREAD) Where have we seen this <code>POINT ( ... )</code> thing before???</a></span><ul class=\"toc-item\"><li><span><a href=\"#You-can-now-take-a-look-at-our-file-in-QGIS-or-some-other-package!\" data-toc-modified-id=\"You-can-now-take-a-look-at-our-file-in-QGIS-or-some-other-package!-9.0.2.1\">You can now take a look at our file in QGIS or some other package!</a></span></li></ul></li><li><span><a href=\"#Plotting-Hospitals-on-Leaflet\" data-toc-modified-id=\"Plotting-Hospitals-on-Leaflet-9.0.3\">Plotting Hospitals on Leaflet</a></span></li><li><span><a href=\"#See-a-version-of-the-map-here:\" data-toc-modified-id=\"See-a-version-of-the-map-here:-9.0.4\">See a version of the map here:</a></span></li></ul></li></ul></li></ul></div>"
   ]
  },
  {
   "cell_type": "markdown",
   "metadata": {},
   "source": [
    "# Learning Objectives\n",
    "\n",
    "* Spatial Data Models\n",
    "* If-Elif-Else Conditionals  \n",
    "* Introduction to Pandas\n",
    "* Introduction to GeoPandas\n"
   ]
  },
  {
   "cell_type": "markdown",
   "metadata": {},
   "source": [
    "\n",
    "### Fork this Lesson Repo\n",
    "\n",
    "https://github.com/pratt-savi-810/pratt-savi-810-2020-03-lesson_03\n"
   ]
  },
  {
   "cell_type": "markdown",
   "metadata": {},
   "source": [
    "# A quick overview of Terminal\n",
    "\n",
    "\n",
    "##### Going forward let's install libraries at the commandline. \n",
    "\n",
    "#### Open Your Terminal \n",
    "\n",
    "##### Mac\n",
    "\n",
    "To open Terminal.app on your Mac hit COMMAND + SPACE for search, then type `Terminal` to search for and open. Or go to `Applications/Utilities/Terminal.app`.\n",
    "\n",
    "![terminal_mac](https://cdn.macpaw.com/uploads/images/Screen%20Shot%202018-10-17%20at%2018.14.23.png)\n",
    "_Terminal app on Mac_\n",
    "\n",
    "\n",
    "##### Windows\n",
    "\n",
    "For Windows you can use [Powershell](https://docs.microsoft.com/en-us/powershell/scripting/getting-started/getting-started-with-windows-powershell?view=powershell-7) or the Anaconda Powershell install app\n",
    "\n",
    "![powershell_anaconda](https://www.anaconda.com/wp-content/uploads/2020/03/Navigator-screenshot-1024x551.png)\n",
    "_Anaconda has its own Powershell app_\n",
    "\n",
    "# Geospatial Data Models \n",
    "\n",
    "\n",
    "### Install GeoPandas\n",
    "\n",
    "\n",
    "#### Command to Install Geopandas\n",
    "\n",
    "**Make sure you are in the correct [Conda virtual environment](https://docs.conda.io/projects/conda/en/latest/user-guide/concepts/environments.html) (here we are using `geospatial`.)**\n",
    "\n",
    "```\n",
    "(geospatial) $ conda install geopandas \n",
    "```\n",
    "\n",
    "> A data model is a way of defining and representing real world surfaces and characteristics in GIS. There are two primary types of spatial data models: Vector and Raster.\n",
    "  * Vector data represents features as discrete points, lines, and polygons\n",
    "  * Raster data represents features as a rectangular matrix of square cells (pixels)\n",
    "    \n",
    "    Source: http://gsp.humboldt.edu/OLM/Courses/GSP_216_Online/lesson3-1/data-models.html\n",
    "\n",
    "\n",
    "## Geospatial Data Models \n",
    "\n",
    "### Vector Data Model\n",
    "\n",
    "> Vector data is very common, and is often used to represent features like roads and boundaries. Vector data comes in the form of points and lines that are geometrically and mathematically associated.  \n",
    "\n",
    "> * Points:\n",
    "    * One pair of coordinates defines the location of a point feature.\n",
    "    * Individual X,Y\n",
    "\n",
    "> * Polylines (LineStrings):\n",
    "    * Two or more pairs of coordinates that are connected define a line feature.\n",
    "    * A series of connected points - Actually, a set of series of connected points.\n",
    "\n",
    "> * Polygons:\n",
    "    * Multiple pairs of coordinates that are connected and closed define a polygon feature.\n",
    "    * A series of connected points that loop back to the first point\n",
    "      * Multiple \"polygons\" can exist in one layer\n",
    "      * Polygons can have internal polygons or \"holes\"\n",
    "      * The beginning and ending coordinates for a polygon are the same.\n",
    "      \n",
    "      Source: http://gsp.humboldt.edu/OLM/Courses/GSP_216_Online/lesson3-1/data-models.html\n",
    "\n",
    "\n",
    "\n",
    "### Shapely\n",
    "One dependency (another Python Library GeoPandas depends on) is [Shapely](https://shapely.readthedocs.io/en/latest/manual.html)\n",
    "\n",
    "> Deterministic spatial analysis is an important component of computational approaches to problems in agriculture, ecology, epidemiology, sociology, and many other fields. What is the surveyed perimeter/area ratio of these patches of animal habitat? Which properties in this town intersect with the 50-year flood contour from this new flooding model? What are the extents of findspots for ancient ceramic wares with maker’s marks “A” and “B”, and where do the extents overlap? What’s the path from home to office that best skirts identified zones of location based spam? These are just a few of the possible questions addressable using non-statistical spatial analysis, and more specifically, computational geometry.\n",
    "\n",
    "> Shapely is a Python package for set-theoretic analysis and manipulation of planar features using (via Python’s ctypes module) functions from the well known and widely deployed GEOS library. GEOS, a port of the Java Topology Suite (JTS), is the geometry engine of the PostGIS spatial extension for the PostgreSQL RDBMS. The designs of JTS and GEOS are largely guided by the Open Geospatial Consortium’s Simple Features Access Specification 1 and Shapely adheres mainly to the same set of standard classes and operations. Shapely is thereby deeply rooted in the conventions of the geographic information systems (GIS) world, but aspires to be equally useful to programmers working on non-conventional problems.\n",
    "\n",
    "> The first premise of Shapely is that Python programmers should be able to perform PostGIS type geometry operations outside of an RDBMS. Not all geographic data originate or reside in a RDBMS or are best processed using SQL. We can load data into a spatial RDBMS to do work, but if there’s no mandate to manage (the “M” in “RDBMS”) the data over time in the database we’re using the wrong tool for the job. The second premise is that the persistence, serialization, and map projection of features are significant, but orthogonal problems. You may not need a hundred GIS format readers and writers or the multitude of State Plane projections, and Shapely doesn’t burden you with them. The third premise is that Python idioms trump GIS (or Java, in this case, since the GEOS library is derived from JTS, a Java project) idioms.\n",
    "\n",
    "> If you enjoy and profit from idiomatic Python, appreciate packages that do one thing well, and agree that a spatially enabled RDBMS is often enough the wrong tool for your computational geometry job, Shapely might be for you. Source: https://shapely.readthedocs.io/en/latest/manual.html\n",
    "\n"
   ]
  },
  {
   "cell_type": "markdown",
   "metadata": {},
   "source": [
    "### Points"
   ]
  },
  {
   "cell_type": "code",
   "execution_count": 1,
   "metadata": {},
   "outputs": [],
   "source": [
    "from shapely.geometry import Point\n",
    "import matplotlib.pyplot as plt"
   ]
  },
  {
   "cell_type": "code",
   "execution_count": 4,
   "metadata": {},
   "outputs": [],
   "source": [
    "%matplotlib inline   # Jupyter notebook magic command\n",
    "#plt.show()"
   ]
  },
  {
   "cell_type": "code",
   "execution_count": 6,
   "metadata": {},
   "outputs": [
    {
     "data": {
      "image/svg+xml": [
       "<svg xmlns=\"http://www.w3.org/2000/svg\" xmlns:xlink=\"http://www.w3.org/1999/xlink\" width=\"100.0\" height=\"100.0\" viewBox=\"-1.0 -1.0 2.0 2.0\" preserveAspectRatio=\"xMinYMin meet\"><g transform=\"matrix(1,0,0,-1,0,0.0)\"><circle cx=\"0.0\" cy=\"0.0\" r=\"0.06\" stroke=\"#555555\" stroke-width=\"0.02\" fill=\"#66cc99\" opacity=\"0.6\" /></g></svg>"
      ],
      "text/plain": [
       "<shapely.geometry.point.Point at 0x208eda7e808>"
      ]
     },
     "execution_count": 6,
     "metadata": {},
     "output_type": "execute_result"
    }
   ],
   "source": [
    "point_1 = Point(0.0, 0.0)\n",
    "point_1"
   ]
  },
  {
   "cell_type": "code",
   "execution_count": 9,
   "metadata": {},
   "outputs": [
    {
     "data": {
      "image/svg+xml": [
       "<svg xmlns=\"http://www.w3.org/2000/svg\" xmlns:xlink=\"http://www.w3.org/1999/xlink\" width=\"100.0\" height=\"100.0\" viewBox=\"44.0 99.0 2.0 2.0\" preserveAspectRatio=\"xMinYMin meet\"><g transform=\"matrix(1,0,0,-1,0,200.0)\"><circle cx=\"45.0\" cy=\"100.0\" r=\"0.06\" stroke=\"#555555\" stroke-width=\"0.02\" fill=\"#66cc99\" opacity=\"0.6\" /></g></svg>"
      ],
      "text/plain": [
       "<shapely.geometry.point.Point at 0x208ee655508>"
      ]
     },
     "execution_count": 9,
     "metadata": {},
     "output_type": "execute_result"
    }
   ],
   "source": [
    "point_2 = Point(45.0, 100.0)\n",
    "point_2"
   ]
  },
  {
   "cell_type": "code",
   "execution_count": 11,
   "metadata": {},
   "outputs": [
    {
     "data": {
      "image/png": "[encoded data removed]",
      "text/plain": [
       "<Figure size 432x288 with 1 Axes>"
      ]
     },
     "metadata": {
      "needs_background": "light"
     },
     "output_type": "display_data"
    }
   ],
   "source": [
    "p_1x, p_1y = point_1.xy\n",
    "p_2x, p_2y = point_2.xy\n",
    "\n",
    "plt.scatter(p_1x, p_1y)\n",
    "plt.scatter(p_2x, p_2y)\n",
    "plt.show();"
   ]
  },
  {
   "cell_type": "markdown",
   "metadata": {},
   "source": [
    "### Lines - (LineString)"
   ]
  },
  {
   "cell_type": "code",
   "execution_count": 12,
   "metadata": {},
   "outputs": [],
   "source": [
    "from shapely.geometry import LineString"
   ]
  },
  {
   "cell_type": "code",
   "execution_count": 13,
   "metadata": {},
   "outputs": [
    {
     "data": {
      "image/svg+xml": [
       "<svg xmlns=\"http://www.w3.org/2000/svg\" xmlns:xlink=\"http://www.w3.org/1999/xlink\" width=\"100.0\" height=\"100.0\" viewBox=\"-0.08 -0.08 2.16 2.16\" preserveAspectRatio=\"xMinYMin meet\"><g transform=\"matrix(1,0,0,-1,0,2.0)\"><polyline fill=\"none\" stroke=\"#66cc99\" stroke-width=\"0.0432\" points=\"0.0,0.0 2.0,2.0\" opacity=\"0.8\" /></g></svg>"
      ],
      "text/plain": [
       "<shapely.geometry.linestring.LineString at 0x208ee763808>"
      ]
     },
     "execution_count": 13,
     "metadata": {},
     "output_type": "execute_result"
    }
   ],
   "source": [
    "# linestring: pass a list of tuples/list of coordinates\n",
    "line = LineString([(0, 0), (2, 2)])\n",
    "line"
   ]
  },
  {
   "cell_type": "code",
   "execution_count": 21,
   "metadata": {
    "scrolled": true
   },
   "outputs": [
    {
     "data": {
      "text/plain": [
       "shapely.geometry.linestring.LineString"
      ]
     },
     "execution_count": 21,
     "metadata": {},
     "output_type": "execute_result"
    }
   ],
   "source": [
    "type(line)"
   ]
  },
  {
   "cell_type": "code",
   "execution_count": 36,
   "metadata": {},
   "outputs": [
    {
     "data": {
      "text/plain": [
       "2.8284271247461903"
      ]
     },
     "execution_count": 36,
     "metadata": {},
     "output_type": "execute_result"
    }
   ],
   "source": [
    "line.length"
   ]
  },
  {
   "cell_type": "code",
   "execution_count": 17,
   "metadata": {},
   "outputs": [],
   "source": [
    "a = LineString([(0, 0), (1, 1), (1,2), (2,2)])\n",
    "b = LineString([(0, 0), (1, 1), (2,1), (2,2)])"
   ]
  },
  {
   "cell_type": "code",
   "execution_count": 22,
   "metadata": {},
   "outputs": [
    {
     "data": {
      "image/svg+xml": [
       "<svg xmlns=\"http://www.w3.org/2000/svg\" xmlns:xlink=\"http://www.w3.org/1999/xlink\" width=\"100.0\" height=\"100.0\" viewBox=\"-0.08 -0.08 2.16 2.16\" preserveAspectRatio=\"xMinYMin meet\"><g transform=\"matrix(1,0,0,-1,0,2.0)\"><polyline fill=\"none\" stroke=\"#66cc99\" stroke-width=\"0.0432\" points=\"0.0,0.0 1.0,1.0 1.0,2.0 2.0,2.0\" opacity=\"0.8\" /></g></svg>"
      ],
      "text/plain": [
       "<shapely.geometry.linestring.LineString at 0x208ef1e3b48>"
      ]
     },
     "execution_count": 22,
     "metadata": {},
     "output_type": "execute_result"
    }
   ],
   "source": [
    "a"
   ]
  },
  {
   "cell_type": "code",
   "execution_count": 35,
   "metadata": {},
   "outputs": [
    {
     "data": {
      "image/svg+xml": [
       "<svg xmlns=\"http://www.w3.org/2000/svg\" xmlns:xlink=\"http://www.w3.org/1999/xlink\" width=\"100.0\" height=\"100.0\" viewBox=\"-0.08 -0.08 2.16 2.16\" preserveAspectRatio=\"xMinYMin meet\"><g transform=\"matrix(1,0,0,-1,0,2.0)\"><polyline fill=\"none\" stroke=\"#66cc99\" stroke-width=\"0.0432\" points=\"0.0,0.0 1.0,1.0 2.0,1.0 2.0,2.0\" opacity=\"0.8\" /></g></svg>"
      ],
      "text/plain": [
       "<shapely.geometry.linestring.LineString at 0x208ef1e3f88>"
      ]
     },
     "execution_count": 35,
     "metadata": {},
     "output_type": "execute_result"
    }
   ],
   "source": [
    "b"
   ]
  },
  {
   "cell_type": "markdown",
   "metadata": {},
   "source": [
    "### Intersection of Two LineString Objects"
   ]
  },
  {
   "cell_type": "code",
   "execution_count": 25,
   "metadata": {},
   "outputs": [
    {
     "data": {
      "image/svg+xml": [
       "<svg xmlns=\"http://www.w3.org/2000/svg\" xmlns:xlink=\"http://www.w3.org/1999/xlink\" width=\"100.0\" height=\"100.0\" viewBox=\"-0.08 -0.08 2.16 2.16\" preserveAspectRatio=\"xMinYMin meet\"><g transform=\"matrix(1,0,0,-1,0,2.0)\"><g><circle cx=\"2.0\" cy=\"2.0\" r=\"0.0648\" stroke=\"#555555\" stroke-width=\"0.0216\" fill=\"#66cc99\" opacity=\"0.6\" /><polyline fill=\"none\" stroke=\"#66cc99\" stroke-width=\"0.0432\" points=\"0.0,0.0 1.0,1.0\" opacity=\"0.8\" /></g></g></svg>"
      ],
      "text/plain": [
       "<shapely.geometry.collection.GeometryCollection at 0x208ef561bc8>"
      ]
     },
     "execution_count": 25,
     "metadata": {},
     "output_type": "execute_result"
    }
   ],
   "source": [
    "# geoprocessing operation\n",
    "x = a.intersection(b)\n",
    "x"
   ]
  },
  {
   "cell_type": "markdown",
   "metadata": {},
   "source": [
    "### Polygons"
   ]
  },
  {
   "cell_type": "code",
   "execution_count": 26,
   "metadata": {},
   "outputs": [],
   "source": [
    "from shapely.geometry import Polygon"
   ]
  },
  {
   "cell_type": "code",
   "execution_count": 27,
   "metadata": {},
   "outputs": [],
   "source": [
    "c = Polygon([[1, 1], [-1, 3], [3, 3], [3, 1]])\n",
    "d = Polygon([[0, 0], [0, 4], [4, 4], [4, 0]])"
   ]
  },
  {
   "cell_type": "code",
   "execution_count": 28,
   "metadata": {
    "scrolled": true
   },
   "outputs": [
    {
     "data": {
      "image/svg+xml": [
       "<svg xmlns=\"http://www.w3.org/2000/svg\" xmlns:xlink=\"http://www.w3.org/1999/xlink\" width=\"100.0\" height=\"100.0\" viewBox=\"-1.16 0.84 4.32 2.3200000000000003\" preserveAspectRatio=\"xMinYMin meet\"><g transform=\"matrix(1,0,0,-1,0,4.0)\"><path fill-rule=\"evenodd\" fill=\"#66cc99\" stroke=\"#555555\" stroke-width=\"0.0864\" opacity=\"0.6\" d=\"M 1.0,1.0 L -1.0,3.0 L 3.0,3.0 L 3.0,1.0 L 1.0,1.0 z\" /></g></svg>"
      ],
      "text/plain": [
       "<shapely.geometry.polygon.Polygon at 0x208ee654048>"
      ]
     },
     "execution_count": 28,
     "metadata": {},
     "output_type": "execute_result"
    }
   ],
   "source": [
    "c"
   ]
  },
  {
   "cell_type": "code",
   "execution_count": 37,
   "metadata": {},
   "outputs": [
    {
     "data": {
      "text/plain": [
       "6.0"
      ]
     },
     "execution_count": 37,
     "metadata": {},
     "output_type": "execute_result"
    }
   ],
   "source": [
    "c.area"
   ]
  },
  {
   "cell_type": "code",
   "execution_count": 29,
   "metadata": {
    "scrolled": true
   },
   "outputs": [
    {
     "data": {
      "image/svg+xml": [
       "<svg xmlns=\"http://www.w3.org/2000/svg\" xmlns:xlink=\"http://www.w3.org/1999/xlink\" width=\"100.0\" height=\"100.0\" viewBox=\"-0.16 -0.16 4.32 4.32\" preserveAspectRatio=\"xMinYMin meet\"><g transform=\"matrix(1,0,0,-1,0,4.0)\"><path fill-rule=\"evenodd\" fill=\"#66cc99\" stroke=\"#555555\" stroke-width=\"0.0864\" opacity=\"0.6\" d=\"M 0.0,0.0 L 0.0,4.0 L 4.0,4.0 L 4.0,0.0 L 0.0,0.0 z\" /></g></svg>"
      ],
      "text/plain": [
       "<shapely.geometry.polygon.Polygon at 0x208ee768648>"
      ]
     },
     "execution_count": 29,
     "metadata": {},
     "output_type": "execute_result"
    }
   ],
   "source": [
    "d"
   ]
  },
  {
   "cell_type": "code",
   "execution_count": 38,
   "metadata": {},
   "outputs": [
    {
     "data": {
      "text/plain": [
       "16.0"
      ]
     },
     "execution_count": 38,
     "metadata": {},
     "output_type": "execute_result"
    }
   ],
   "source": [
    "d.area"
   ]
  },
  {
   "cell_type": "code",
   "execution_count": 31,
   "metadata": {},
   "outputs": [
    {
     "data": {
      "image/svg+xml": [
       "<svg xmlns=\"http://www.w3.org/2000/svg\" xmlns:xlink=\"http://www.w3.org/1999/xlink\" width=\"100.0\" height=\"100.0\" viewBox=\"-0.12 0.88 3.24 2.24\" preserveAspectRatio=\"xMinYMin meet\"><g transform=\"matrix(1,0,0,-1,0,4.0)\"><path fill-rule=\"evenodd\" fill=\"#66cc99\" stroke=\"#555555\" stroke-width=\"0.06480000000000001\" opacity=\"0.6\" d=\"M 1.0,1.0 L 0.0,2.0 L 0.0,3.0 L 3.0,3.0 L 3.0,1.0 L 1.0,1.0 z\" /></g></svg>"
      ],
      "text/plain": [
       "<shapely.geometry.polygon.Polygon at 0x208eecfd908>"
      ]
     },
     "execution_count": 31,
     "metadata": {},
     "output_type": "execute_result"
    }
   ],
   "source": [
    "y = c.intersection(d)\n",
    "y"
   ]
  },
  {
   "cell_type": "markdown",
   "metadata": {},
   "source": [
    "#### MultiPoint "
   ]
  },
  {
   "cell_type": "code",
   "execution_count": 32,
   "metadata": {},
   "outputs": [],
   "source": [
    "from shapely.geometry import MultiPoint"
   ]
  },
  {
   "cell_type": "code",
   "execution_count": 33,
   "metadata": {},
   "outputs": [
    {
     "data": {
      "image/svg+xml": [
       "<svg xmlns=\"http://www.w3.org/2000/svg\" xmlns:xlink=\"http://www.w3.org/1999/xlink\" width=\"100.0\" height=\"100.0\" viewBox=\"-0.08 -1.08 1.1600000000000001 2.16\" preserveAspectRatio=\"xMinYMin meet\"><g transform=\"matrix(1,0,0,-1,0,0.0)\"><g><circle cx=\"0.0\" cy=\"0.0\" r=\"0.0648\" stroke=\"#555555\" stroke-width=\"0.0216\" fill=\"#66cc99\" opacity=\"0.6\" /><circle cx=\"1.0\" cy=\"1.0\" r=\"0.0648\" stroke=\"#555555\" stroke-width=\"0.0216\" fill=\"#66cc99\" opacity=\"0.6\" /><circle cx=\"1.0\" cy=\"-1.0\" r=\"0.0648\" stroke=\"#555555\" stroke-width=\"0.0216\" fill=\"#66cc99\" opacity=\"0.6\" /></g></g></svg>"
      ],
      "text/plain": [
       "<shapely.geometry.multipoint.MultiPoint at 0x208eee3f9c8>"
      ]
     },
     "execution_count": 33,
     "metadata": {},
     "output_type": "execute_result"
    }
   ],
   "source": [
    "e = MultiPoint([(0, 0,), (1, 1), (1, -1)])\n",
    "e"
   ]
  },
  {
   "cell_type": "code",
   "execution_count": 76,
   "metadata": {},
   "outputs": [],
   "source": [
    "# minimum bounding geometry"
   ]
  },
  {
   "cell_type": "markdown",
   "metadata": {},
   "source": [
    "#### More information of shapely geometry\n",
    "https://shapely.readthedocs.io/en/latest/manual.html"
   ]
  },
  {
   "cell_type": "markdown",
   "metadata": {},
   "source": [
    "## Folium (Python - Leaflet) Mapping Example\n",
    "\n",
    "#### First let's pip install folium. \n",
    "Or you can try `conda`. \n",
    "\n",
    "```\n",
    "$ pip install folium\n",
    "```"
   ]
  },
  {
   "cell_type": "code",
   "execution_count": 39,
   "metadata": {},
   "outputs": [],
   "source": [
    "import folium "
   ]
  },
  {
   "cell_type": "code",
   "execution_count": 57,
   "metadata": {},
   "outputs": [
    {
     "data": {
      "text/html": [
       "<div style=\"width:100%;\"><div style=\"position:relative;width:100%;height:0;padding-bottom:60%;\"><iframe src=\"about:blank\" style=\"position:absolute;width:100%;height:100%;left:0;top:0;border:none !important;\" data-html=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 onload=\"this.contentDocument.open();this.contentDocument.write(atob(this.getAttribute('data-html')));this.contentDocument.close();\" allowfullscreen webkitallowfullscreen mozallowfullscreen></iframe></div></div>"
      ],
      "text/plain": [
       "<folium.folium.Map at 0x208f038bd88>"
      ]
     },
     "execution_count": 57,
     "metadata": {},
     "output_type": "execute_result"
    }
   ],
   "source": [
    "# creating a map\n",
    "mt_hood = folium.Map(\n",
    "    location = [45.372, -121.6972],\n",
    "    zoom_start = 2,   # for web mapping, 1 = Globe View and 18 = highest zoomed in\n",
    "    tiles = \"Stamen Terrain\",  # Changing the base map (default = OSM)\n",
    ")\n",
    "\n",
    "# creating a pointer/arrow at the location\n",
    "folium.Marker(\n",
    "    [63.0690, -151.0063],\n",
    "    popup = '<i>Denali<i>'\n",
    ").add_to(mt_hood)\n",
    "\n",
    "folium.Marker(\n",
    "    [36.5786, -118.2920],\n",
    "    popup = '<i>Mt. Whitney<i>'\n",
    ").add_to(mt_hood)\n",
    "\n",
    "mt_hood"
   ]
  },
  {
   "cell_type": "markdown",
   "metadata": {},
   "source": [
    "#### Now let's save this Leaflet map as an html webpage. "
   ]
  },
  {
   "cell_type": "code",
   "execution_count": 58,
   "metadata": {},
   "outputs": [],
   "source": [
    "mt_hood.save('folium.html')"
   ]
  },
  {
   "cell_type": "markdown",
   "metadata": {},
   "source": [
    "# Finishing up From Lecture 02"
   ]
  },
  {
   "cell_type": "markdown",
   "metadata": {},
   "source": [
    "## Python Functions Quick Review\n",
    "\n",
    "\n",
    "### Define your own Python Functions\n",
    "\n",
    "\n",
    "Use `def` prior to your function name, and follow with a colon to close in the function. \n",
    "\n",
    "### Python Package US - US state meta information\n",
    "\n",
    "> A package for easily working with US and state metadata. \n",
    "* all US states and territories\n",
    "* postal abbreviations\n",
    "* Associated Press style abbreviations\n",
    "* FIPS codes\n",
    "* capitals\n",
    "* years of statehood\n",
    "* time zones\n",
    "* phonetic state name lookup\n",
    "* is contiguous or continental\n",
    "* URLs to shapefiles for state, census, congressional districts,\n",
    "  counties, and census tracts - Source: https://pypi.org/project/us/"
   ]
  },
  {
   "cell_type": "code",
   "execution_count": 59,
   "metadata": {},
   "outputs": [
    {
     "name": "stdout",
     "output_type": "stream",
     "text": [
      "Collecting us\n",
      "  Downloading us-1.0.0.tar.gz (13 kB)\n",
      "Collecting jellyfish==0.5.6\n",
      "  Downloading jellyfish-0.5.6.tar.gz (132 kB)\n",
      "Building wheels for collected packages: us, jellyfish\n",
      "  Building wheel for us (setup.py): started\n",
      "  Building wheel for us (setup.py): finished with status 'done'\n",
      "  Created wheel for us: filename=us-1.0.0-py3-none-any.whl size=11837 sha256=c898c6ceca50c470a0e3ad01b8c466a0b0bd700a274f922bb259ec72d51e86e3\n",
      "  Stored in directory: c:\\users\\dun4g\\appdata\\local\\pip\\cache\\wheels\\bd\\9d\\79\\693961c74f34b952e545efbf3399533619c0874440a86ca466\n",
      "  Building wheel for jellyfish (setup.py): started\n",
      "  Building wheel for jellyfish (setup.py): finished with status 'done'\n",
      "  Created wheel for jellyfish: filename=jellyfish-0.5.6-cp37-cp37m-win_amd64.whl size=26227 sha256=0c1cbe55cd1c568e90ee394d4ef1a326f85fb669253b1721fbdd5cad06a9c514\n",
      "  Stored in directory: c:\\users\\dun4g\\appdata\\local\\pip\\cache\\wheels\\a2\\e1\\cf\\61dcdba1d8dfafe32a1befc0525f388d681612a72cccd353eb\n",
      "Successfully built us jellyfish\n",
      "Installing collected packages: jellyfish, us\n",
      "Successfully installed jellyfish-0.5.6 us-1.0.0\n"
     ]
    }
   ],
   "source": [
    "!pip install us"
   ]
  },
  {
   "cell_type": "code",
   "execution_count": 60,
   "metadata": {},
   "outputs": [],
   "source": [
    "import us"
   ]
  },
  {
   "cell_type": "code",
   "execution_count": 61,
   "metadata": {},
   "outputs": [
    {
     "data": {
      "text/plain": [
       "<State:New York>"
      ]
     },
     "execution_count": 61,
     "metadata": {},
     "output_type": "execute_result"
    }
   ],
   "source": [
    "us.states.NY"
   ]
  },
  {
   "cell_type": "code",
   "execution_count": 63,
   "metadata": {},
   "outputs": [
    {
     "data": {
      "text/plain": [
       "'New York'"
      ]
     },
     "execution_count": 63,
     "metadata": {},
     "output_type": "execute_result"
    }
   ],
   "source": [
    "us.states.NY.name"
   ]
  },
  {
   "cell_type": "code",
   "execution_count": 64,
   "metadata": {
    "scrolled": true
   },
   "outputs": [
    {
     "data": {
      "text/plain": [
       "'Albany'"
      ]
     },
     "execution_count": 64,
     "metadata": {},
     "output_type": "execute_result"
    }
   ],
   "source": [
    "us.states.NY.capital"
   ]
  },
  {
   "cell_type": "code",
   "execution_count": 65,
   "metadata": {},
   "outputs": [
    {
     "data": {
      "text/plain": [
       "'36'"
      ]
     },
     "execution_count": 65,
     "metadata": {},
     "output_type": "execute_result"
    }
   ],
   "source": [
    "# getting a fips code (state gode)\n",
    "us.states.NY.fips"
   ]
  },
  {
   "cell_type": "code",
   "execution_count": 68,
   "metadata": {},
   "outputs": [
    {
     "data": {
      "text/plain": [
       "{'tract': 'https://www2.census.gov/geo/tiger/TIGER2010/TRACT/2010/tl_2010_36_tract10.zip',\n",
       " 'cd': 'https://www2.census.gov/geo/tiger/TIGER2010/CD/111/tl_2010_36_cd111.zip',\n",
       " 'county': 'https://www2.census.gov/geo/tiger/TIGER2010/COUNTY/2010/tl_2010_36_county10.zip',\n",
       " 'state': 'https://www2.census.gov/geo/tiger/TIGER2010/STATE/2010/tl_2010_36_state10.zip',\n",
       " 'zcta': 'https://www2.census.gov/geo/tiger/TIGER2010/ZCTA5/2010/tl_2010_36_zcta510.zip',\n",
       " 'block': 'https://www2.census.gov/geo/tiger/TIGER2010/TABBLOCK/2010/tl_2010_36_tabblock10.zip',\n",
       " 'blockgroup': 'https://www2.census.gov/geo/tiger/TIGER2010/BG/2010/tl_2010_36_bg10.zip'}"
      ]
     },
     "execution_count": 68,
     "metadata": {},
     "output_type": "execute_result"
    }
   ],
   "source": [
    "# can access the shapefile url for ny state counties. \n",
    "us.states.NY.shapefile_urls()"
   ]
  },
  {
   "cell_type": "code",
   "execution_count": 69,
   "metadata": {},
   "outputs": [
    {
     "data": {
      "text/plain": [
       "'https://www2.census.gov/geo/tiger/TIGER2010/COUNTY/2010/tl_2010_36_county10.zip'"
      ]
     },
     "execution_count": 69,
     "metadata": {},
     "output_type": "execute_result"
    }
   ],
   "source": [
    "# can access the shapefile url for ny state counties. \n",
    "us.states.NY.shapefile_urls('county')"
   ]
  },
  {
   "cell_type": "markdown",
   "metadata": {},
   "source": [
    "### Python function Print vs. Return\n",
    "\n",
    "> **`print`** just shows the human user a string representing what is going on inside the computer. The computer cannot make use of that printing. **`return`** is how a function gives back a value. This value is often unseen by the human user, but it can be used by the computer in further functions. Source: https://www.codecademy.com/forum_questions/518ffbfeb3f05c44fe001395"
   ]
  },
  {
   "cell_type": "code",
   "execution_count": 76,
   "metadata": {},
   "outputs": [],
   "source": [
    "def get_state_fips(abbr):\n",
    "    state_obj = us.states.lookup(abbr)\n",
    "    fips_code = state_obj.fips\n",
    "    return fips_code"
   ]
  },
  {
   "cell_type": "code",
   "execution_count": 77,
   "metadata": {},
   "outputs": [
    {
     "data": {
      "text/plain": [
       "'36'"
      ]
     },
     "execution_count": 77,
     "metadata": {},
     "output_type": "execute_result"
    }
   ],
   "source": [
    "ny_fibs = get_state_fips('NY')\n",
    "ny_fibs"
   ]
  },
  {
   "cell_type": "code",
   "execution_count": 80,
   "metadata": {
    "scrolled": true
   },
   "outputs": [
    {
     "data": {
      "text/plain": [
       "'09'"
      ]
     },
     "execution_count": 80,
     "metadata": {},
     "output_type": "execute_result"
    }
   ],
   "source": [
    "ct_fibs = get_state_fips('CT')\n",
    "ct_fibs"
   ]
  },
  {
   "cell_type": "code",
   "execution_count": 82,
   "metadata": {},
   "outputs": [
    {
     "data": {
      "text/plain": [
       "str"
      ]
     },
     "execution_count": 82,
     "metadata": {},
     "output_type": "execute_result"
    }
   ],
   "source": [
    "type(ct_fibs)"
   ]
  },
  {
   "cell_type": "markdown",
   "metadata": {},
   "source": [
    "## If - Elif - Else Condition Flow\n",
    "\n",
    "Let's say we have a variable called speed, which is your driving speed. "
   ]
  },
  {
   "cell_type": "code",
   "execution_count": 83,
   "metadata": {},
   "outputs": [],
   "source": [
    "speed = 40"
   ]
  },
  {
   "cell_type": "code",
   "execution_count": 84,
   "metadata": {},
   "outputs": [
    {
     "name": "stdout",
     "output_type": "stream",
     "text": [
      "Your speed is between 30 mps and 49 mps.\n"
     ]
    }
   ],
   "source": [
    "if speed >= 70:\n",
    "    print('Slow down!')\n",
    "elif speed >= 50:\n",
    "    print('Your speed is between 50 mps and 69 mps.')\n",
    "elif speed >= 30:\n",
    "    print('Your speed is between 30 mps and 49 mps.')\n",
    "else:\n",
    "    print(\"You're stopped, on a local street, or in traffic.\")"
   ]
  },
  {
   "cell_type": "markdown",
   "metadata": {},
   "source": [
    "### Now let's put these conditions into a function"
   ]
  },
  {
   "cell_type": "code",
   "execution_count": 85,
   "metadata": {},
   "outputs": [],
   "source": [
    "def speed_function(speed):\n",
    "    if speed >= 70:\n",
    "        print('Slow down!')\n",
    "    elif speed >= 50:\n",
    "        print('Your speed is between 50 mps and 69 mps.')\n",
    "    elif speed >= 30:\n",
    "        print('Your speed is between 30 mps and 49 mps.')\n",
    "    else:\n",
    "        print(\"You're stopped, on a local street, or in traffic.\")"
   ]
  },
  {
   "cell_type": "code",
   "execution_count": 86,
   "metadata": {},
   "outputs": [
    {
     "name": "stdout",
     "output_type": "stream",
     "text": [
      "You're stopped, on a local street, or in traffic.\n"
     ]
    }
   ],
   "source": [
    "speed_function(10)"
   ]
  },
  {
   "cell_type": "code",
   "execution_count": 87,
   "metadata": {},
   "outputs": [
    {
     "name": "stdout",
     "output_type": "stream",
     "text": [
      "Slow down!\n"
     ]
    }
   ],
   "source": [
    "speed_function(100)"
   ]
  },
  {
   "cell_type": "code",
   "execution_count": 88,
   "metadata": {},
   "outputs": [
    {
     "name": "stdout",
     "output_type": "stream",
     "text": [
      "Your speed is between 30 mps and 49 mps.\n"
     ]
    }
   ],
   "source": [
    "speed_function(35)"
   ]
  },
  {
   "cell_type": "markdown",
   "metadata": {},
   "source": [
    "# Introduction to Pandas\n",
    "\n",
    "> pandas is an open source, BSD-licensed library providing high-performance, easy-to-use data structures and data analysis tools for the Python programming language. Source: https://pandas.pydata.org/pandas-docs/stable/index.html\n",
    "\n",
    "You can think of Pandas as the table (.dbf) of a Shapefile or as a Sheet in Excel or Google Spreadsheet. \n",
    "\n",
    "## Pandas DataFrame\n",
    "> DataFrame is a 2-dimensional labeled data structure with columns of potentially different types. You can think of it like a spreadsheet or SQL table, or a dict of Series objects. It is generally the most commonly used pandas object. Like Series, DataFrame accepts many different kinds of input. Source: https://pandas.pydata.org/pandas-docs/stable/getting_started/dsintro.html\n",
    "\n",
    "\n",
    "![pandas_dataframe](https://pandas.pydata.org/pandas-docs/stable/_images/01_table_dataframe.svg)\n",
    "<center> Source: https://pandas.pydata.org/pandas-docs/stable/getting_started </center>\n",
    "\n",
    "## Pandas Input Data Types "
   ]
  },
  {
   "cell_type": "code",
   "execution_count": 89,
   "metadata": {},
   "outputs": [
    {
     "data": {
      "text/html": [
       "\n",
       "        <iframe\n",
       "            width=\"700\"\n",
       "            height=\"300\"\n",
       "            src=\"https://pandas.pydata.org/pandas-docs/stable/user_guide/io.html#io-tools-text-csv-hdf5\"\n",
       "            frameborder=\"0\"\n",
       "            allowfullscreen\n",
       "        ></iframe>\n",
       "        "
      ],
      "text/plain": [
       "<IPython.lib.display.IFrame at 0x208f06c39c8>"
      ]
     },
     "execution_count": 89,
     "metadata": {},
     "output_type": "execute_result"
    }
   ],
   "source": [
    "from IPython.display import IFrame\n",
    "IFrame(src='https://pandas.pydata.org/pandas-docs/stable/user_guide/io.html#io-tools-text-csv-hdf5', width=700, height=300)"
   ]
  },
  {
   "attachments": {
    "image.png": {
     "image/png": "[encoded data removed]"
    }
   },
   "cell_type": "markdown",
   "metadata": {},
   "source": [
    "### Reading and Writing Pandas Data \n",
    "\n",
    "![image.png](attachment:image.png)\n",
    "\n",
    "> Pandas supports the integration with many file formats or data sources out of the box (csv, excel, sql, json, parquet,…). Importing data from each of these data sources is provided by function with the prefix read_*. Similarly, the to_* methods are used to store data. Source: https://pandas.pydata.org/pandas-docs/stable/getting_started/index.html#getting-started\n",
    "\n",
    "\n",
    "#### Let's import the `pandas` library as `pd`"
   ]
  },
  {
   "cell_type": "code",
   "execution_count": 6,
   "metadata": {},
   "outputs": [],
   "source": [
    "import pandas as pd  # import pandas\n",
    "import matplotlib.pyplot as plt"
   ]
  },
  {
   "cell_type": "code",
   "execution_count": 7,
   "metadata": {},
   "outputs": [],
   "source": [
    "%matplotlib inline"
   ]
  },
  {
   "cell_type": "markdown",
   "metadata": {},
   "source": [
    "### Let's work with some real-world data!!!"
   ]
  },
  {
   "cell_type": "markdown",
   "metadata": {},
   "source": [
    "## US Hospitals Data\n",
    "\n",
    "> This feature class/shapefile contains locations of Hospitals for 50 US states, Washington D.C., US territories of Puerto Rico, Guam, American Samoa, Northern Mariana Islands, Palau, and Virgin Islands. The dataset only includes hospital facilities based on data acquired from various state departments or federal sources which has been referenced in the SOURCE field. Hospital facilities which do not occur in these sources will be not present in the database. The source data was available in a variety of formats (pdfs, tables, webpages, etc.) which was cleaned and geocoded and then converted into a spatial database. The database does not contain nursing homes or health centers. Hospitals have been categorized into children, chronic disease, critical access, general acute care, long term care, military, psychiatric, rehabilitation, special, and women based on the range of the available values from the various sources after removing similarities. In this update the TRAUMA field was populated for 172 additional hospitals and helipad presence were verified for all hospitals. Source: https://hifld-geoplatform.opendata.arcgis.com/datasets/hospitals\n",
    "\n",
    "[![hospitals](https://raw.githubusercontent.com/pratt-savi-810/images/master/us_hospitals.png)](https://hifld-geoplatform.opendata.arcgis.com/datasets/hospitals)"
   ]
  },
  {
   "cell_type": "code",
   "execution_count": 2,
   "metadata": {},
   "outputs": [],
   "source": [
    "# here's an api url for hospitals data from dept. homeland security\n",
    "csv_url = 'https://opendata.arcgis.com/datasets/6ac5e325468c4cb9b905f1728d6fbf0f_0.csv?outSR=%7B%22latestWkid%22%3A3857%2C%22wkid%22%3A102100%7D'"
   ]
  },
  {
   "cell_type": "code",
   "execution_count": 3,
   "metadata": {},
   "outputs": [
    {
     "data": {
      "text/plain": [
       "str"
      ]
     },
     "execution_count": 3,
     "metadata": {},
     "output_type": "execute_result"
    }
   ],
   "source": [
    "type(csv_url)"
   ]
  },
  {
   "cell_type": "code",
   "execution_count": 4,
   "metadata": {},
   "outputs": [
    {
     "data": {
      "text/plain": [
       "pandas.core.frame.DataFrame"
      ]
     },
     "execution_count": 4,
     "metadata": {},
     "output_type": "execute_result"
    }
   ],
   "source": [
    "# df = Data Frame of the csv file\n",
    "df = pd.read_csv(csv_url)\n",
    "type(df)"
   ]
  },
  {
   "cell_type": "code",
   "execution_count": 99,
   "metadata": {},
   "outputs": [
    {
     "data": {
      "text/html": [
       "<div>\n",
       "<style scoped>\n",
       "    .dataframe tbody tr th:only-of-type {\n",
       "        vertical-align: middle;\n",
       "    }\n",
       "\n",
       "    .dataframe tbody tr th {\n",
       "        vertical-align: top;\n",
       "    }\n",
       "\n",
       "    .dataframe thead th {\n",
       "        text-align: right;\n",
       "    }\n",
       "</style>\n",
       "<table border=\"1\" class=\"dataframe\">\n",
       "  <thead>\n",
       "    <tr style=\"text-align: right;\">\n",
       "      <th></th>\n",
       "      <th>X</th>\n",
       "      <th>Y</th>\n",
       "      <th>OBJECTID</th>\n",
       "      <th>ID</th>\n",
       "      <th>NAME</th>\n",
       "      <th>ADDRESS</th>\n",
       "      <th>CITY</th>\n",
       "      <th>STATE</th>\n",
       "      <th>ZIP</th>\n",
       "      <th>ZIP4</th>\n",
       "      <th>...</th>\n",
       "      <th>VAL_DATE</th>\n",
       "      <th>WEBSITE</th>\n",
       "      <th>STATE_ID</th>\n",
       "      <th>ALT_NAME</th>\n",
       "      <th>ST_FIPS</th>\n",
       "      <th>OWNER</th>\n",
       "      <th>TTL_STAFF</th>\n",
       "      <th>BEDS</th>\n",
       "      <th>TRAUMA</th>\n",
       "      <th>HELIPAD</th>\n",
       "    </tr>\n",
       "  </thead>\n",
       "  <tbody>\n",
       "    <tr>\n",
       "      <th>0</th>\n",
       "      <td>-114.617494</td>\n",
       "      <td>34.833066</td>\n",
       "      <td>1001</td>\n",
       "      <td>7892363</td>\n",
       "      <td>COLORADO RIVER MEDICAL CENTER</td>\n",
       "      <td>1401 BAILEY AVENUE</td>\n",
       "      <td>NEEDLES</td>\n",
       "      <td>CA</td>\n",
       "      <td>92363</td>\n",
       "      <td>NOT AVAILABLE</td>\n",
       "      <td>...</td>\n",
       "      <td>2014-02-10T00:00:00.000Z</td>\n",
       "      <td>http://www.cityofneedles.com/Hospitals.asp</td>\n",
       "      <td>NOT AVAILABLE</td>\n",
       "      <td>NOT AVAILABLE</td>\n",
       "      <td>6</td>\n",
       "      <td>GOVERNMENT - LOCAL</td>\n",
       "      <td>-999</td>\n",
       "      <td>25</td>\n",
       "      <td>NOT AVAILABLE</td>\n",
       "      <td>Y</td>\n",
       "    </tr>\n",
       "    <tr>\n",
       "      <th>1</th>\n",
       "      <td>-117.057065</td>\n",
       "      <td>32.776586</td>\n",
       "      <td>1002</td>\n",
       "      <td>1392120</td>\n",
       "      <td>ALVARADO HOSPITAL MEDICAL CENTER</td>\n",
       "      <td>6655 ALVARADO ROAD</td>\n",
       "      <td>SAN DIEGO</td>\n",
       "      <td>CA</td>\n",
       "      <td>92120</td>\n",
       "      <td>NOT AVAILABLE</td>\n",
       "      <td>...</td>\n",
       "      <td>2014-02-10T00:00:00.000Z</td>\n",
       "      <td>http://www.alvaradohospital.com</td>\n",
       "      <td>NOT AVAILABLE</td>\n",
       "      <td>NOT AVAILABLE</td>\n",
       "      <td>6</td>\n",
       "      <td>PROPRIETARY</td>\n",
       "      <td>-999</td>\n",
       "      <td>226</td>\n",
       "      <td>NOT AVAILABLE</td>\n",
       "      <td>N</td>\n",
       "    </tr>\n",
       "    <tr>\n",
       "      <th>2</th>\n",
       "      <td>-117.044162</td>\n",
       "      <td>32.774632</td>\n",
       "      <td>1003</td>\n",
       "      <td>1591942</td>\n",
       "      <td>ALVARADO PARKWAY INSTITUTE B.H.S.</td>\n",
       "      <td>7050 PARKWAY DRIVE</td>\n",
       "      <td>LA MESA</td>\n",
       "      <td>CA</td>\n",
       "      <td>91942</td>\n",
       "      <td>NOT AVAILABLE</td>\n",
       "      <td>...</td>\n",
       "      <td>2014-02-10T00:00:00.000Z</td>\n",
       "      <td>http://www.apibhs.com</td>\n",
       "      <td>NOT AVAILABLE</td>\n",
       "      <td>NOT AVAILABLE</td>\n",
       "      <td>6</td>\n",
       "      <td>PROPRIETARY</td>\n",
       "      <td>-999</td>\n",
       "      <td>66</td>\n",
       "      <td>NOT AVAILABLE</td>\n",
       "      <td>N</td>\n",
       "    </tr>\n",
       "  </tbody>\n",
       "</table>\n",
       "<p>3 rows × 34 columns</p>\n",
       "</div>"
      ],
      "text/plain": [
       "            X          Y  OBJECTID       ID  \\\n",
       "0 -114.617494  34.833066      1001  7892363   \n",
       "1 -117.057065  32.776586      1002  1392120   \n",
       "2 -117.044162  32.774632      1003  1591942   \n",
       "\n",
       "                                NAME             ADDRESS       CITY STATE  \\\n",
       "0      COLORADO RIVER MEDICAL CENTER  1401 BAILEY AVENUE    NEEDLES    CA   \n",
       "1   ALVARADO HOSPITAL MEDICAL CENTER  6655 ALVARADO ROAD  SAN DIEGO    CA   \n",
       "2  ALVARADO PARKWAY INSTITUTE B.H.S.  7050 PARKWAY DRIVE    LA MESA    CA   \n",
       "\n",
       "     ZIP           ZIP4  ...                  VAL_DATE  \\\n",
       "0  92363  NOT AVAILABLE  ...  2014-02-10T00:00:00.000Z   \n",
       "1  92120  NOT AVAILABLE  ...  2014-02-10T00:00:00.000Z   \n",
       "2  91942  NOT AVAILABLE  ...  2014-02-10T00:00:00.000Z   \n",
       "\n",
       "                                      WEBSITE       STATE_ID       ALT_NAME  \\\n",
       "0  http://www.cityofneedles.com/Hospitals.asp  NOT AVAILABLE  NOT AVAILABLE   \n",
       "1             http://www.alvaradohospital.com  NOT AVAILABLE  NOT AVAILABLE   \n",
       "2                       http://www.apibhs.com  NOT AVAILABLE  NOT AVAILABLE   \n",
       "\n",
       "  ST_FIPS               OWNER TTL_STAFF  BEDS         TRAUMA  HELIPAD  \n",
       "0       6  GOVERNMENT - LOCAL      -999    25  NOT AVAILABLE        Y  \n",
       "1       6         PROPRIETARY      -999   226  NOT AVAILABLE        N  \n",
       "2       6         PROPRIETARY      -999    66  NOT AVAILABLE        N  \n",
       "\n",
       "[3 rows x 34 columns]"
      ]
     },
     "execution_count": 99,
     "metadata": {},
     "output_type": "execute_result"
    }
   ],
   "source": [
    "df.head(3)"
   ]
  },
  {
   "cell_type": "code",
   "execution_count": 100,
   "metadata": {},
   "outputs": [
    {
     "data": {
      "text/html": [
       "<div>\n",
       "<style scoped>\n",
       "    .dataframe tbody tr th:only-of-type {\n",
       "        vertical-align: middle;\n",
       "    }\n",
       "\n",
       "    .dataframe tbody tr th {\n",
       "        vertical-align: top;\n",
       "    }\n",
       "\n",
       "    .dataframe thead th {\n",
       "        text-align: right;\n",
       "    }\n",
       "</style>\n",
       "<table border=\"1\" class=\"dataframe\">\n",
       "  <thead>\n",
       "    <tr style=\"text-align: right;\">\n",
       "      <th></th>\n",
       "      <th>X</th>\n",
       "      <th>Y</th>\n",
       "      <th>OBJECTID</th>\n",
       "      <th>ID</th>\n",
       "      <th>NAME</th>\n",
       "      <th>ADDRESS</th>\n",
       "      <th>CITY</th>\n",
       "      <th>STATE</th>\n",
       "      <th>ZIP</th>\n",
       "      <th>ZIP4</th>\n",
       "      <th>...</th>\n",
       "      <th>VAL_DATE</th>\n",
       "      <th>WEBSITE</th>\n",
       "      <th>STATE_ID</th>\n",
       "      <th>ALT_NAME</th>\n",
       "      <th>ST_FIPS</th>\n",
       "      <th>OWNER</th>\n",
       "      <th>TTL_STAFF</th>\n",
       "      <th>BEDS</th>\n",
       "      <th>TRAUMA</th>\n",
       "      <th>HELIPAD</th>\n",
       "    </tr>\n",
       "  </thead>\n",
       "  <tbody>\n",
       "    <tr>\n",
       "      <th>7578</th>\n",
       "      <td>-81.223012</td>\n",
       "      <td>41.535709</td>\n",
       "      <td>5998</td>\n",
       "      <td>123244024</td>\n",
       "      <td>REHAB HOSPITAL AT HEATHER HILL CARE COMMUNITIES</td>\n",
       "      <td>12340 BASS LAKE ROAD</td>\n",
       "      <td>CHARDON</td>\n",
       "      <td>OH</td>\n",
       "      <td>44024</td>\n",
       "      <td>NOT AVAILABLE</td>\n",
       "      <td>...</td>\n",
       "      <td>2015-03-10T00:00:00.000Z</td>\n",
       "      <td>http://www.heatherhillcare.com/</td>\n",
       "      <td>1420</td>\n",
       "      <td>NOT AVAILABLE</td>\n",
       "      <td>39</td>\n",
       "      <td>PROPRIETARY</td>\n",
       "      <td>-999</td>\n",
       "      <td>56</td>\n",
       "      <td>NOT AVAILABLE</td>\n",
       "      <td>N</td>\n",
       "    </tr>\n",
       "    <tr>\n",
       "      <th>7579</th>\n",
       "      <td>-106.639071</td>\n",
       "      <td>35.084911</td>\n",
       "      <td>5999</td>\n",
       "      <td>4587102</td>\n",
       "      <td>ALBUQUERQUE - AMG SPECIALTY HOSPITAL LLC</td>\n",
       "      <td>235 ELM STREET NORTHEAST</td>\n",
       "      <td>ALBUQUERQUE</td>\n",
       "      <td>NM</td>\n",
       "      <td>87102</td>\n",
       "      <td>NOT AVAILABLE</td>\n",
       "      <td>...</td>\n",
       "      <td>2014-02-10T00:00:00.000Z</td>\n",
       "      <td>http://www.amgalbuquerque.com/</td>\n",
       "      <td>NOT AVAILABLE</td>\n",
       "      <td>NOT AVAILABLE</td>\n",
       "      <td>35</td>\n",
       "      <td>PROPRIETARY</td>\n",
       "      <td>-999</td>\n",
       "      <td>25</td>\n",
       "      <td>NOT AVAILABLE</td>\n",
       "      <td>N</td>\n",
       "    </tr>\n",
       "    <tr>\n",
       "      <th>7580</th>\n",
       "      <td>-65.650255</td>\n",
       "      <td>18.332016</td>\n",
       "      <td>6000</td>\n",
       "      <td>6600738</td>\n",
       "      <td>CARIBBEAN MEDICAL CENTER</td>\n",
       "      <td>151 OSVALDO AVENUE</td>\n",
       "      <td>FAJARDO</td>\n",
       "      <td>PR</td>\n",
       "      <td>738</td>\n",
       "      <td>NOT AVAILABLE</td>\n",
       "      <td>...</td>\n",
       "      <td>2014-02-10T00:00:00.000Z</td>\n",
       "      <td>www.caribbeanmedicalcenter.com</td>\n",
       "      <td>85</td>\n",
       "      <td>NOT AVAILABLE</td>\n",
       "      <td>72</td>\n",
       "      <td>NOT AVAILABLE</td>\n",
       "      <td>-999</td>\n",
       "      <td>38</td>\n",
       "      <td>NOT AVAILABLE</td>\n",
       "      <td>N</td>\n",
       "    </tr>\n",
       "  </tbody>\n",
       "</table>\n",
       "<p>3 rows × 34 columns</p>\n",
       "</div>"
      ],
      "text/plain": [
       "               X          Y  OBJECTID         ID  \\\n",
       "7578  -81.223012  41.535709      5998  123244024   \n",
       "7579 -106.639071  35.084911      5999    4587102   \n",
       "7580  -65.650255  18.332016      6000    6600738   \n",
       "\n",
       "                                                 NAME  \\\n",
       "7578  REHAB HOSPITAL AT HEATHER HILL CARE COMMUNITIES   \n",
       "7579         ALBUQUERQUE - AMG SPECIALTY HOSPITAL LLC   \n",
       "7580                         CARIBBEAN MEDICAL CENTER   \n",
       "\n",
       "                       ADDRESS         CITY STATE    ZIP           ZIP4  ...  \\\n",
       "7578      12340 BASS LAKE ROAD      CHARDON    OH  44024  NOT AVAILABLE  ...   \n",
       "7579  235 ELM STREET NORTHEAST  ALBUQUERQUE    NM  87102  NOT AVAILABLE  ...   \n",
       "7580        151 OSVALDO AVENUE      FAJARDO    PR    738  NOT AVAILABLE  ...   \n",
       "\n",
       "                      VAL_DATE                          WEBSITE  \\\n",
       "7578  2015-03-10T00:00:00.000Z  http://www.heatherhillcare.com/   \n",
       "7579  2014-02-10T00:00:00.000Z   http://www.amgalbuquerque.com/   \n",
       "7580  2014-02-10T00:00:00.000Z   www.caribbeanmedicalcenter.com   \n",
       "\n",
       "           STATE_ID       ALT_NAME ST_FIPS          OWNER TTL_STAFF  BEDS  \\\n",
       "7578           1420  NOT AVAILABLE      39    PROPRIETARY      -999    56   \n",
       "7579  NOT AVAILABLE  NOT AVAILABLE      35    PROPRIETARY      -999    25   \n",
       "7580             85  NOT AVAILABLE      72  NOT AVAILABLE      -999    38   \n",
       "\n",
       "             TRAUMA  HELIPAD  \n",
       "7578  NOT AVAILABLE        N  \n",
       "7579  NOT AVAILABLE        N  \n",
       "7580  NOT AVAILABLE        N  \n",
       "\n",
       "[3 rows x 34 columns]"
      ]
     },
     "execution_count": 100,
     "metadata": {},
     "output_type": "execute_result"
    }
   ],
   "source": [
    "df.tail(3)"
   ]
  },
  {
   "cell_type": "code",
   "execution_count": 101,
   "metadata": {},
   "outputs": [
    {
     "data": {
      "text/plain": [
       "(7581, 34)"
      ]
     },
     "execution_count": 101,
     "metadata": {},
     "output_type": "execute_result"
    }
   ],
   "source": [
    "# rows and columns\n",
    "df.shape"
   ]
  },
  {
   "cell_type": "code",
   "execution_count": 102,
   "metadata": {},
   "outputs": [
    {
     "data": {
      "text/plain": [
       "7581"
      ]
     },
     "execution_count": 102,
     "metadata": {},
     "output_type": "execute_result"
    }
   ],
   "source": [
    "# rows\n",
    "df.shape[0]"
   ]
  },
  {
   "cell_type": "code",
   "execution_count": 103,
   "metadata": {
    "scrolled": true
   },
   "outputs": [
    {
     "data": {
      "text/plain": [
       "34"
      ]
     },
     "execution_count": 103,
     "metadata": {},
     "output_type": "execute_result"
    }
   ],
   "source": [
    "# columns\n",
    "df.shape[1]"
   ]
  },
  {
   "cell_type": "code",
   "execution_count": 104,
   "metadata": {
    "scrolled": true
   },
   "outputs": [
    {
     "data": {
      "text/plain": [
       "['X',\n",
       " 'Y',\n",
       " 'OBJECTID',\n",
       " 'ID',\n",
       " 'NAME',\n",
       " 'ADDRESS',\n",
       " 'CITY',\n",
       " 'STATE',\n",
       " 'ZIP',\n",
       " 'ZIP4',\n",
       " 'TELEPHONE',\n",
       " 'TYPE',\n",
       " 'STATUS',\n",
       " 'POPULATION',\n",
       " 'COUNTY',\n",
       " 'COUNTYFIPS',\n",
       " 'COUNTRY',\n",
       " 'LATITUDE',\n",
       " 'LONGITUDE',\n",
       " 'NAICS_CODE',\n",
       " 'NAICS_DESC',\n",
       " 'SOURCE',\n",
       " 'SOURCEDATE',\n",
       " 'VAL_METHOD',\n",
       " 'VAL_DATE',\n",
       " 'WEBSITE',\n",
       " 'STATE_ID',\n",
       " 'ALT_NAME',\n",
       " 'ST_FIPS',\n",
       " 'OWNER',\n",
       " 'TTL_STAFF',\n",
       " 'BEDS',\n",
       " 'TRAUMA',\n",
       " 'HELIPAD']"
      ]
     },
     "execution_count": 104,
     "metadata": {},
     "output_type": "execute_result"
    }
   ],
   "source": [
    "# list of column names\n",
    "list(df.columns)"
   ]
  },
  {
   "cell_type": "code",
   "execution_count": 105,
   "metadata": {
    "scrolled": true
   },
   "outputs": [
    {
     "name": "stdout",
     "output_type": "stream",
     "text": [
      "<class 'pandas.core.frame.DataFrame'>\n",
      "RangeIndex: 7581 entries, 0 to 7580\n",
      "Data columns (total 34 columns):\n",
      " #   Column      Non-Null Count  Dtype  \n",
      "---  ------      --------------  -----  \n",
      " 0   X           7581 non-null   float64\n",
      " 1   Y           7581 non-null   float64\n",
      " 2   OBJECTID    7581 non-null   int64  \n",
      " 3   ID          7581 non-null   int64  \n",
      " 4   NAME        7581 non-null   object \n",
      " 5   ADDRESS     7581 non-null   object \n",
      " 6   CITY        7581 non-null   object \n",
      " 7   STATE       7581 non-null   object \n",
      " 8   ZIP         7581 non-null   int64  \n",
      " 9   ZIP4        7581 non-null   object \n",
      " 10  TELEPHONE   7581 non-null   object \n",
      " 11  TYPE        7581 non-null   object \n",
      " 12  STATUS      7581 non-null   object \n",
      " 13  POPULATION  7581 non-null   int64  \n",
      " 14  COUNTY      7581 non-null   object \n",
      " 15  COUNTYFIPS  7581 non-null   object \n",
      " 16  COUNTRY     7581 non-null   object \n",
      " 17  LATITUDE    7581 non-null   float64\n",
      " 18  LONGITUDE   7581 non-null   float64\n",
      " 19  NAICS_CODE  7581 non-null   int64  \n",
      " 20  NAICS_DESC  7581 non-null   object \n",
      " 21  SOURCE      7581 non-null   object \n",
      " 22  SOURCEDATE  7581 non-null   object \n",
      " 23  VAL_METHOD  7581 non-null   object \n",
      " 24  VAL_DATE    7581 non-null   object \n",
      " 25  WEBSITE     7581 non-null   object \n",
      " 26  STATE_ID    7581 non-null   object \n",
      " 27  ALT_NAME    7581 non-null   object \n",
      " 28  ST_FIPS     7581 non-null   int64  \n",
      " 29  OWNER       7581 non-null   object \n",
      " 30  TTL_STAFF   7581 non-null   int64  \n",
      " 31  BEDS        7581 non-null   int64  \n",
      " 32  TRAUMA      7581 non-null   object \n",
      " 33  HELIPAD     7581 non-null   object \n",
      "dtypes: float64(4), int64(8), object(22)\n",
      "memory usage: 2.0+ MB\n"
     ]
    }
   ],
   "source": [
    "# Data Frame Information\n",
    "df.info()"
   ]
  },
  {
   "cell_type": "code",
   "execution_count": 106,
   "metadata": {
    "scrolled": true
   },
   "outputs": [
    {
     "data": {
      "text/html": [
       "<div>\n",
       "<style scoped>\n",
       "    .dataframe tbody tr th:only-of-type {\n",
       "        vertical-align: middle;\n",
       "    }\n",
       "\n",
       "    .dataframe tbody tr th {\n",
       "        vertical-align: top;\n",
       "    }\n",
       "\n",
       "    .dataframe thead th {\n",
       "        text-align: right;\n",
       "    }\n",
       "</style>\n",
       "<table border=\"1\" class=\"dataframe\">\n",
       "  <thead>\n",
       "    <tr style=\"text-align: right;\">\n",
       "      <th></th>\n",
       "      <th>X</th>\n",
       "      <th>Y</th>\n",
       "      <th>OBJECTID</th>\n",
       "      <th>ID</th>\n",
       "      <th>ZIP</th>\n",
       "      <th>POPULATION</th>\n",
       "      <th>LATITUDE</th>\n",
       "      <th>LONGITUDE</th>\n",
       "      <th>NAICS_CODE</th>\n",
       "      <th>ST_FIPS</th>\n",
       "      <th>TTL_STAFF</th>\n",
       "      <th>BEDS</th>\n",
       "    </tr>\n",
       "  </thead>\n",
       "  <tbody>\n",
       "    <tr>\n",
       "      <th>count</th>\n",
       "      <td>7581.000000</td>\n",
       "      <td>7581.000000</td>\n",
       "      <td>7581.000000</td>\n",
       "      <td>7.581000e+03</td>\n",
       "      <td>7581.000000</td>\n",
       "      <td>7581.000000</td>\n",
       "      <td>7581.000000</td>\n",
       "      <td>7581.000000</td>\n",
       "      <td>7581.000000</td>\n",
       "      <td>7581.000000</td>\n",
       "      <td>7581.0</td>\n",
       "      <td>7581.000000</td>\n",
       "    </tr>\n",
       "    <tr>\n",
       "      <th>mean</th>\n",
       "      <td>-92.358000</td>\n",
       "      <td>37.328166</td>\n",
       "      <td>3791.000000</td>\n",
       "      <td>2.558721e+07</td>\n",
       "      <td>53616.285450</td>\n",
       "      <td>40.675505</td>\n",
       "      <td>37.328166</td>\n",
       "      <td>-92.358000</td>\n",
       "      <td>622140.932595</td>\n",
       "      <td>29.465242</td>\n",
       "      <td>-999.0</td>\n",
       "      <td>46.533703</td>\n",
       "    </tr>\n",
       "    <tr>\n",
       "      <th>std</th>\n",
       "      <td>16.225181</td>\n",
       "      <td>5.778961</td>\n",
       "      <td>2188.590528</td>\n",
       "      <td>3.992351e+07</td>\n",
       "      <td>27527.904019</td>\n",
       "      <td>372.327896</td>\n",
       "      <td>5.778961</td>\n",
       "      <td>16.225181</td>\n",
       "      <td>66.097699</td>\n",
       "      <td>16.306133</td>\n",
       "      <td>0.0</td>\n",
       "      <td>364.693889</td>\n",
       "    </tr>\n",
       "    <tr>\n",
       "      <th>min</th>\n",
       "      <td>-176.640263</td>\n",
       "      <td>-14.290242</td>\n",
       "      <td>1.000000</td>\n",
       "      <td>4.000000e+00</td>\n",
       "      <td>605.000000</td>\n",
       "      <td>-999.000000</td>\n",
       "      <td>-14.290242</td>\n",
       "      <td>-176.640263</td>\n",
       "      <td>622110.000000</td>\n",
       "      <td>1.000000</td>\n",
       "      <td>-999.0</td>\n",
       "      <td>-999.000000</td>\n",
       "    </tr>\n",
       "    <tr>\n",
       "      <th>25%</th>\n",
       "      <td>-98.200813</td>\n",
       "      <td>33.463731</td>\n",
       "      <td>1896.000000</td>\n",
       "      <td>3.983422e+06</td>\n",
       "      <td>32025.000000</td>\n",
       "      <td>25.000000</td>\n",
       "      <td>33.463731</td>\n",
       "      <td>-98.200813</td>\n",
       "      <td>622110.000000</td>\n",
       "      <td>17.000000</td>\n",
       "      <td>-999.0</td>\n",
       "      <td>25.000000</td>\n",
       "    </tr>\n",
       "    <tr>\n",
       "      <th>50%</th>\n",
       "      <td>-90.073126</td>\n",
       "      <td>37.973793</td>\n",
       "      <td>3791.000000</td>\n",
       "      <td>9.656520e+06</td>\n",
       "      <td>54971.000000</td>\n",
       "      <td>65.000000</td>\n",
       "      <td>37.973793</td>\n",
       "      <td>-90.073126</td>\n",
       "      <td>622110.000000</td>\n",
       "      <td>29.000000</td>\n",
       "      <td>-999.0</td>\n",
       "      <td>66.000000</td>\n",
       "    </tr>\n",
       "    <tr>\n",
       "      <th>75%</th>\n",
       "      <td>-81.767407</td>\n",
       "      <td>41.322243</td>\n",
       "      <td>5686.000000</td>\n",
       "      <td>2.263475e+07</td>\n",
       "      <td>76825.000000</td>\n",
       "      <td>177.000000</td>\n",
       "      <td>41.322243</td>\n",
       "      <td>-81.767407</td>\n",
       "      <td>622110.000000</td>\n",
       "      <td>44.000000</td>\n",
       "      <td>-999.0</td>\n",
       "      <td>178.000000</td>\n",
       "    </tr>\n",
       "    <tr>\n",
       "      <th>max</th>\n",
       "      <td>145.724472</td>\n",
       "      <td>71.292847</td>\n",
       "      <td>7581.000000</td>\n",
       "      <td>1.821209e+08</td>\n",
       "      <td>99929.000000</td>\n",
       "      <td>1592.000000</td>\n",
       "      <td>71.292847</td>\n",
       "      <td>145.724472</td>\n",
       "      <td>622310.000000</td>\n",
       "      <td>78.000000</td>\n",
       "      <td>-999.0</td>\n",
       "      <td>1592.000000</td>\n",
       "    </tr>\n",
       "  </tbody>\n",
       "</table>\n",
       "</div>"
      ],
      "text/plain": [
       "                 X            Y     OBJECTID            ID           ZIP  \\\n",
       "count  7581.000000  7581.000000  7581.000000  7.581000e+03   7581.000000   \n",
       "mean    -92.358000    37.328166  3791.000000  2.558721e+07  53616.285450   \n",
       "std      16.225181     5.778961  2188.590528  3.992351e+07  27527.904019   \n",
       "min    -176.640263   -14.290242     1.000000  4.000000e+00    605.000000   \n",
       "25%     -98.200813    33.463731  1896.000000  3.983422e+06  32025.000000   \n",
       "50%     -90.073126    37.973793  3791.000000  9.656520e+06  54971.000000   \n",
       "75%     -81.767407    41.322243  5686.000000  2.263475e+07  76825.000000   \n",
       "max     145.724472    71.292847  7581.000000  1.821209e+08  99929.000000   \n",
       "\n",
       "        POPULATION     LATITUDE    LONGITUDE     NAICS_CODE      ST_FIPS  \\\n",
       "count  7581.000000  7581.000000  7581.000000    7581.000000  7581.000000   \n",
       "mean     40.675505    37.328166   -92.358000  622140.932595    29.465242   \n",
       "std     372.327896     5.778961    16.225181      66.097699    16.306133   \n",
       "min    -999.000000   -14.290242  -176.640263  622110.000000     1.000000   \n",
       "25%      25.000000    33.463731   -98.200813  622110.000000    17.000000   \n",
       "50%      65.000000    37.973793   -90.073126  622110.000000    29.000000   \n",
       "75%     177.000000    41.322243   -81.767407  622110.000000    44.000000   \n",
       "max    1592.000000    71.292847   145.724472  622310.000000    78.000000   \n",
       "\n",
       "       TTL_STAFF         BEDS  \n",
       "count     7581.0  7581.000000  \n",
       "mean      -999.0    46.533703  \n",
       "std          0.0   364.693889  \n",
       "min       -999.0  -999.000000  \n",
       "25%       -999.0    25.000000  \n",
       "50%       -999.0    66.000000  \n",
       "75%       -999.0   178.000000  \n",
       "max       -999.0  1592.000000  "
      ]
     },
     "execution_count": 106,
     "metadata": {},
     "output_type": "execute_result"
    }
   ],
   "source": [
    "# Data Frame Description\n",
    "df.describe()"
   ]
  },
  {
   "cell_type": "code",
   "execution_count": 10,
   "metadata": {},
   "outputs": [
    {
     "data": {
      "image/png": "[encoded data removed]",
      "text/plain": [
       "<Figure size 432x288 with 1 Axes>"
      ]
     },
     "metadata": {
      "needs_background": "light"
     },
     "output_type": "display_data"
    }
   ],
   "source": [
    "x = df.LONGITUDE\n",
    "y = df.LATITUDE\n",
    "plt.scatter(x, y)\n",
    "plt.show()"
   ]
  },
  {
   "cell_type": "code",
   "execution_count": 107,
   "metadata": {},
   "outputs": [
    {
     "data": {
      "text/plain": [
       "count    7581.000000\n",
       "mean       46.533703\n",
       "std       364.693889\n",
       "min      -999.000000\n",
       "25%        25.000000\n",
       "50%        66.000000\n",
       "75%       178.000000\n",
       "max      1592.000000\n",
       "Name: BEDS, dtype: float64"
      ]
     },
     "execution_count": 107,
     "metadata": {},
     "output_type": "execute_result"
    }
   ],
   "source": [
    "df['BEDS'].describe()"
   ]
  },
  {
   "cell_type": "code",
   "execution_count": 108,
   "metadata": {},
   "outputs": [
    {
     "data": {
      "text/plain": [
       " 25      762\n",
       "-999     662\n",
       " 60      124\n",
       " 16      112\n",
       " 40      110\n",
       "        ... \n",
       " 1287      1\n",
       " 1157      1\n",
       " 1493      1\n",
       " 1541      1\n",
       " 1021      1\n",
       "Name: BEDS, Length: 721, dtype: int64"
      ]
     },
     "execution_count": 108,
     "metadata": {},
     "output_type": "execute_result"
    }
   ],
   "source": [
    "df['BEDS'].value_counts()"
   ]
  },
  {
   "cell_type": "code",
   "execution_count": 109,
   "metadata": {
    "scrolled": true
   },
   "outputs": [
    {
     "data": {
      "text/plain": [
       " 25      0.100514\n",
       "-999     0.087324\n",
       " 60      0.016357\n",
       " 16      0.014774\n",
       " 40      0.014510\n",
       "           ...   \n",
       " 1287    0.000132\n",
       " 1157    0.000132\n",
       " 1493    0.000132\n",
       " 1541    0.000132\n",
       " 1021    0.000132\n",
       "Name: BEDS, Length: 721, dtype: float64"
      ]
     },
     "execution_count": 109,
     "metadata": {},
     "output_type": "execute_result"
    }
   ],
   "source": [
    "# normalize = True : Getting the percentage\n",
    "df['BEDS'].value_counts(normalize = True)"
   ]
  },
  {
   "cell_type": "code",
   "execution_count": 112,
   "metadata": {},
   "outputs": [
    {
     "data": {
      "text/plain": [
       "NOT AVAILABLE                     5427\n",
       "LEVEL IV                           886\n",
       "LEVEL III                          477\n",
       "LEVEL II                           332\n",
       "LEVEL I                            207\n",
       "TRH                                 35\n",
       "TRF                                 31\n",
       "CTH                                 24\n",
       "LEVEL I PEDIATRIC                   24\n",
       "LEVEL I, LEVEL I PEDIATRIC          19\n",
       "LEVEL I, LEVEL II PEDIATRIC         19\n",
       "LEVEL V                             17\n",
       "ATH                                 12\n",
       "LEVEL II, LEVEL II PEDIATRIC        10\n",
       "LEVEL II PEDIATRIC                   9\n",
       "TRAUMA SYSTEM HOSPITAL               9\n",
       "LEVEL 3                              6\n",
       "RTC                                  6\n",
       "LEVEL III, LEVEL III PEDIATRIC       5\n",
       "NOT DESIGNATED                       4\n",
       "RTH                                  3\n",
       "REGIONAL TRAUMA CENTER               3\n",
       "UNCLASSIFIED                         2\n",
       "LEVEL II, LEVEL PEDIATRIC            2\n",
       "AREA                                 2\n",
       "LEVEL I, LEVEL PEDIATRIC             2\n",
       "CTF                                  1\n",
       "LEVEL III PEDIATRIC                  1\n",
       "RPTC                                 1\n",
       "PARC                                 1\n",
       "LEVEL PEDIATRIC                      1\n",
       "LEVEL 1 PEDIATRIC                    1\n",
       "LEVEL II, LEVEL III PEDIATRIC        1\n",
       "LEVEL 1                              1\n",
       "Name: TRAUMA, dtype: int64"
      ]
     },
     "execution_count": 112,
     "metadata": {},
     "output_type": "execute_result"
    }
   ],
   "source": [
    "df['TRAUMA'].value_counts()"
   ]
  },
  {
   "cell_type": "code",
   "execution_count": 114,
   "metadata": {},
   "outputs": [
    {
     "data": {
      "text/plain": [
       "GENERAL ACUTE CARE    4524\n",
       "CRITICAL ACCESS       1031\n",
       "PSYCHIATRIC            741\n",
       "LONG TERM CARE         431\n",
       "REHABILITATION         366\n",
       "MILITARY               213\n",
       "CHILDREN               124\n",
       "SPECIAL                122\n",
       "WOMEN                   20\n",
       "CHRONIC DISEASE          9\n",
       "Name: TYPE, dtype: int64"
      ]
     },
     "execution_count": 114,
     "metadata": {},
     "output_type": "execute_result"
    }
   ],
   "source": [
    "df['TYPE'].value_counts()"
   ]
  },
  {
   "cell_type": "code",
   "execution_count": 118,
   "metadata": {},
   "outputs": [],
   "source": [
    "# subselect columns to show\n",
    "ny_hosp = df[df['STATE'] == 'NY']"
   ]
  },
  {
   "cell_type": "code",
   "execution_count": 122,
   "metadata": {},
   "outputs": [
    {
     "data": {
      "text/html": [
       "<div>\n",
       "<style scoped>\n",
       "    .dataframe tbody tr th:only-of-type {\n",
       "        vertical-align: middle;\n",
       "    }\n",
       "\n",
       "    .dataframe tbody tr th {\n",
       "        vertical-align: top;\n",
       "    }\n",
       "\n",
       "    .dataframe thead th {\n",
       "        text-align: right;\n",
       "    }\n",
       "</style>\n",
       "<table border=\"1\" class=\"dataframe\">\n",
       "  <thead>\n",
       "    <tr style=\"text-align: right;\">\n",
       "      <th></th>\n",
       "      <th>X</th>\n",
       "      <th>Y</th>\n",
       "      <th>OBJECTID</th>\n",
       "      <th>ID</th>\n",
       "      <th>NAME</th>\n",
       "      <th>ADDRESS</th>\n",
       "      <th>CITY</th>\n",
       "      <th>STATE</th>\n",
       "      <th>ZIP</th>\n",
       "      <th>ZIP4</th>\n",
       "      <th>...</th>\n",
       "      <th>VAL_DATE</th>\n",
       "      <th>WEBSITE</th>\n",
       "      <th>STATE_ID</th>\n",
       "      <th>ALT_NAME</th>\n",
       "      <th>ST_FIPS</th>\n",
       "      <th>OWNER</th>\n",
       "      <th>TTL_STAFF</th>\n",
       "      <th>BEDS</th>\n",
       "      <th>TRAUMA</th>\n",
       "      <th>HELIPAD</th>\n",
       "    </tr>\n",
       "  </thead>\n",
       "  <tbody>\n",
       "    <tr>\n",
       "      <th>500</th>\n",
       "      <td>-73.115678</td>\n",
       "      <td>40.909194</td>\n",
       "      <td>1501</td>\n",
       "      <td>3611790</td>\n",
       "      <td>STONY BROOK UNIVERSITY HOSPITAL</td>\n",
       "      <td>101 NICOLLS RD</td>\n",
       "      <td>STONY BROOK</td>\n",
       "      <td>NY</td>\n",
       "      <td>11790</td>\n",
       "      <td>NOT AVAILABLE</td>\n",
       "      <td>...</td>\n",
       "      <td>2014-02-10T00:00:00.000Z</td>\n",
       "      <td>https://www.stonybrookmedicine.edu/sbuh</td>\n",
       "      <td>5151001H</td>\n",
       "      <td>NOT AVAILABLE</td>\n",
       "      <td>36</td>\n",
       "      <td>GOVERNMENT - STATE</td>\n",
       "      <td>-999</td>\n",
       "      <td>603</td>\n",
       "      <td>LEVEL I, LEVEL I PEDIATRIC</td>\n",
       "      <td>Y</td>\n",
       "    </tr>\n",
       "    <tr>\n",
       "      <th>502</th>\n",
       "      <td>-73.927709</td>\n",
       "      <td>41.717838</td>\n",
       "      <td>1503</td>\n",
       "      <td>118012601</td>\n",
       "      <td>MID-HUDSON VALLEY DIVISION OF WESTCHESTER MEDI...</td>\n",
       "      <td>241 NORTH ROAD</td>\n",
       "      <td>POUGHKEEPSIE</td>\n",
       "      <td>NY</td>\n",
       "      <td>12601</td>\n",
       "      <td>NOT AVAILABLE</td>\n",
       "      <td>...</td>\n",
       "      <td>2015-05-12T00:00:00.000Z</td>\n",
       "      <td>http://www.midhudsonregional.org/</td>\n",
       "      <td>1302000H</td>\n",
       "      <td>ST FRANCIS HOSPITAL OF POUGHKEEPSIE</td>\n",
       "      <td>36</td>\n",
       "      <td>GOVERNMENT - LOCAL</td>\n",
       "      <td>-999</td>\n",
       "      <td>243</td>\n",
       "      <td>LEVEL II</td>\n",
       "      <td>Y</td>\n",
       "    </tr>\n",
       "    <tr>\n",
       "      <th>682</th>\n",
       "      <td>-74.737524</td>\n",
       "      <td>41.709061</td>\n",
       "      <td>1683</td>\n",
       "      <td>120812742</td>\n",
       "      <td>CATSKILL REGIONAL MEDICAL CENTER</td>\n",
       "      <td>68 HARRIS-BUSHVILLE RD</td>\n",
       "      <td>HARRIS</td>\n",
       "      <td>NY</td>\n",
       "      <td>12742</td>\n",
       "      <td>NOT AVAILABLE</td>\n",
       "      <td>...</td>\n",
       "      <td>2015-02-24T00:00:00.000Z</td>\n",
       "      <td>http://www.crmcny.org/</td>\n",
       "      <td>5263000H</td>\n",
       "      <td>NOT AVAILABLE</td>\n",
       "      <td>36</td>\n",
       "      <td>NON-PROFIT</td>\n",
       "      <td>-999</td>\n",
       "      <td>154</td>\n",
       "      <td>NOT AVAILABLE</td>\n",
       "      <td>Y</td>\n",
       "    </tr>\n",
       "    <tr>\n",
       "      <th>1030</th>\n",
       "      <td>-73.981869</td>\n",
       "      <td>44.267245</td>\n",
       "      <td>4031</td>\n",
       "      <td>120712946</td>\n",
       "      <td>ADIRONDACK MEDICAL CENTER-LAKE PLACID SITE</td>\n",
       "      <td>CHURCH STREET</td>\n",
       "      <td>LAKE PLACID</td>\n",
       "      <td>NY</td>\n",
       "      <td>12946</td>\n",
       "      <td>NOT AVAILABLE</td>\n",
       "      <td>...</td>\n",
       "      <td>2015-02-24T00:00:00.000Z</td>\n",
       "      <td>NOT AVAILABLE</td>\n",
       "      <td>NOT AVAILABLE</td>\n",
       "      <td>NOT AVAILABLE</td>\n",
       "      <td>36</td>\n",
       "      <td>NOT AVAILABLE</td>\n",
       "      <td>-999</td>\n",
       "      <td>-999</td>\n",
       "      <td>NOT AVAILABLE</td>\n",
       "      <td>Y</td>\n",
       "    </tr>\n",
       "    <tr>\n",
       "      <th>1114</th>\n",
       "      <td>-73.780115</td>\n",
       "      <td>42.645811</td>\n",
       "      <td>4115</td>\n",
       "      <td>2312204</td>\n",
       "      <td>ALBANY MEDICAL CENTER - SOUTH CLINICAL CAMPUS</td>\n",
       "      <td>25 HACKETT BOULEVARD, MC 201</td>\n",
       "      <td>ALBANY</td>\n",
       "      <td>NY</td>\n",
       "      <td>12204</td>\n",
       "      <td>NOT AVAILABLE</td>\n",
       "      <td>...</td>\n",
       "      <td>2014-02-10T00:00:00.000Z</td>\n",
       "      <td>http://www.amc.edu/index.cfm</td>\n",
       "      <td>0101005H</td>\n",
       "      <td>NOT AVAILABLE</td>\n",
       "      <td>36</td>\n",
       "      <td>NON-PROFIT</td>\n",
       "      <td>-999</td>\n",
       "      <td>18</td>\n",
       "      <td>NOT AVAILABLE</td>\n",
       "      <td>Y</td>\n",
       "    </tr>\n",
       "  </tbody>\n",
       "</table>\n",
       "<p>5 rows × 34 columns</p>\n",
       "</div>"
      ],
      "text/plain": [
       "              X          Y  OBJECTID         ID  \\\n",
       "500  -73.115678  40.909194      1501    3611790   \n",
       "502  -73.927709  41.717838      1503  118012601   \n",
       "682  -74.737524  41.709061      1683  120812742   \n",
       "1030 -73.981869  44.267245      4031  120712946   \n",
       "1114 -73.780115  42.645811      4115    2312204   \n",
       "\n",
       "                                                   NAME  \\\n",
       "500                     STONY BROOK UNIVERSITY HOSPITAL   \n",
       "502   MID-HUDSON VALLEY DIVISION OF WESTCHESTER MEDI...   \n",
       "682                    CATSKILL REGIONAL MEDICAL CENTER   \n",
       "1030         ADIRONDACK MEDICAL CENTER-LAKE PLACID SITE   \n",
       "1114      ALBANY MEDICAL CENTER - SOUTH CLINICAL CAMPUS   \n",
       "\n",
       "                           ADDRESS          CITY STATE    ZIP           ZIP4  \\\n",
       "500                 101 NICOLLS RD   STONY BROOK    NY  11790  NOT AVAILABLE   \n",
       "502                 241 NORTH ROAD  POUGHKEEPSIE    NY  12601  NOT AVAILABLE   \n",
       "682         68 HARRIS-BUSHVILLE RD        HARRIS    NY  12742  NOT AVAILABLE   \n",
       "1030                 CHURCH STREET   LAKE PLACID    NY  12946  NOT AVAILABLE   \n",
       "1114  25 HACKETT BOULEVARD, MC 201        ALBANY    NY  12204  NOT AVAILABLE   \n",
       "\n",
       "      ...                  VAL_DATE                                  WEBSITE  \\\n",
       "500   ...  2014-02-10T00:00:00.000Z  https://www.stonybrookmedicine.edu/sbuh   \n",
       "502   ...  2015-05-12T00:00:00.000Z        http://www.midhudsonregional.org/   \n",
       "682   ...  2015-02-24T00:00:00.000Z                   http://www.crmcny.org/   \n",
       "1030  ...  2015-02-24T00:00:00.000Z                            NOT AVAILABLE   \n",
       "1114  ...  2014-02-10T00:00:00.000Z             http://www.amc.edu/index.cfm   \n",
       "\n",
       "           STATE_ID                             ALT_NAME ST_FIPS  \\\n",
       "500        5151001H                        NOT AVAILABLE      36   \n",
       "502        1302000H  ST FRANCIS HOSPITAL OF POUGHKEEPSIE      36   \n",
       "682        5263000H                        NOT AVAILABLE      36   \n",
       "1030  NOT AVAILABLE                        NOT AVAILABLE      36   \n",
       "1114       0101005H                        NOT AVAILABLE      36   \n",
       "\n",
       "                   OWNER TTL_STAFF  BEDS                      TRAUMA  HELIPAD  \n",
       "500   GOVERNMENT - STATE      -999   603  LEVEL I, LEVEL I PEDIATRIC        Y  \n",
       "502   GOVERNMENT - LOCAL      -999   243                    LEVEL II        Y  \n",
       "682           NON-PROFIT      -999   154               NOT AVAILABLE        Y  \n",
       "1030       NOT AVAILABLE      -999  -999               NOT AVAILABLE        Y  \n",
       "1114          NON-PROFIT      -999    18               NOT AVAILABLE        Y  \n",
       "\n",
       "[5 rows x 34 columns]"
      ]
     },
     "execution_count": 122,
     "metadata": {},
     "output_type": "execute_result"
    }
   ],
   "source": [
    "ny_hosp.head(5)"
   ]
  },
  {
   "cell_type": "code",
   "execution_count": 121,
   "metadata": {},
   "outputs": [
    {
     "data": {
      "text/plain": [
       "(277, 34)"
      ]
     },
     "execution_count": 121,
     "metadata": {},
     "output_type": "execute_result"
    }
   ],
   "source": [
    "ny_hosp.shape"
   ]
  },
  {
   "cell_type": "code",
   "execution_count": 123,
   "metadata": {},
   "outputs": [
    {
     "data": {
      "text/html": [
       "<div>\n",
       "<style scoped>\n",
       "    .dataframe tbody tr th:only-of-type {\n",
       "        vertical-align: middle;\n",
       "    }\n",
       "\n",
       "    .dataframe tbody tr th {\n",
       "        vertical-align: top;\n",
       "    }\n",
       "\n",
       "    .dataframe thead th {\n",
       "        text-align: right;\n",
       "    }\n",
       "</style>\n",
       "<table border=\"1\" class=\"dataframe\">\n",
       "  <thead>\n",
       "    <tr style=\"text-align: right;\">\n",
       "      <th></th>\n",
       "      <th>NAME</th>\n",
       "      <th>STATE</th>\n",
       "    </tr>\n",
       "  </thead>\n",
       "  <tbody>\n",
       "    <tr>\n",
       "      <th>0</th>\n",
       "      <td>COLORADO RIVER MEDICAL CENTER</td>\n",
       "      <td>CA</td>\n",
       "    </tr>\n",
       "    <tr>\n",
       "      <th>1</th>\n",
       "      <td>ALVARADO HOSPITAL MEDICAL CENTER</td>\n",
       "      <td>CA</td>\n",
       "    </tr>\n",
       "    <tr>\n",
       "      <th>2</th>\n",
       "      <td>ALVARADO PARKWAY INSTITUTE B.H.S.</td>\n",
       "      <td>CA</td>\n",
       "    </tr>\n",
       "    <tr>\n",
       "      <th>3</th>\n",
       "      <td>KINDRED HOSPITAL - SAN DIEGO</td>\n",
       "      <td>CA</td>\n",
       "    </tr>\n",
       "    <tr>\n",
       "      <th>4</th>\n",
       "      <td>PARADISE VALLEY HOSPITAL</td>\n",
       "      <td>CA</td>\n",
       "    </tr>\n",
       "  </tbody>\n",
       "</table>\n",
       "</div>"
      ],
      "text/plain": [
       "                                NAME STATE\n",
       "0      COLORADO RIVER MEDICAL CENTER    CA\n",
       "1   ALVARADO HOSPITAL MEDICAL CENTER    CA\n",
       "2  ALVARADO PARKWAY INSTITUTE B.H.S.    CA\n",
       "3       KINDRED HOSPITAL - SAN DIEGO    CA\n",
       "4           PARADISE VALLEY HOSPITAL    CA"
      ]
     },
     "execution_count": 123,
     "metadata": {},
     "output_type": "execute_result"
    }
   ],
   "source": [
    "df[['NAME', 'STATE']].head(5)"
   ]
  },
  {
   "cell_type": "code",
   "execution_count": 74,
   "metadata": {},
   "outputs": [],
   "source": [
    "# note that the df object is still the whole dataset\n"
   ]
  },
  {
   "cell_type": "markdown",
   "metadata": {},
   "source": [
    "# Geopandas\n",
    "\n",
    "> **GeoPandas** is an open source project to make **working with geospatial data in python easier**. GeoPandas **extends the datatypes used by pandas to allow spatial operations on geometric types**. Geometric operations are performed by `shapely`. Geopandas further depends on `fiona` for file access and `descartes` and `matplotlib` for plotting. Source: https://geopandas.org/\n",
    "\n",
    "### Geopandas Description \n",
    "\n",
    "> The goal of GeoPandas is to make working with geospatial data in python easier. It combines the capabilities of `pandas` and `shapely`, providing geospatial operations in pandas and a high-level interface to multiple geometries to shapely. GeoPandas enables you to **easily do operations in python that would otherwise require a spatial database such as PostGIS**. Source: https://geopandas.org/\n",
    "\n",
    "#### Geopandas Installation\n",
    "\n",
    "From our **Terminal** application:\n",
    "\n",
    "```\n",
    "(geospatial) $ conda install geopandas\n",
    "```"
   ]
  },
  {
   "cell_type": "code",
   "execution_count": 124,
   "metadata": {},
   "outputs": [],
   "source": [
    "import geopandas as gpd"
   ]
  },
  {
   "cell_type": "code",
   "execution_count": 125,
   "metadata": {},
   "outputs": [],
   "source": [
    "hosp_geojson = 'https://opendata.arcgis.com/datasets/6ac5e325468c4cb9b905f1728d6fbf0f_0.geojson'"
   ]
  },
  {
   "cell_type": "code",
   "execution_count": 126,
   "metadata": {},
   "outputs": [],
   "source": [
    "gdf = gpd.read_file(hosp_geojson)"
   ]
  },
  {
   "cell_type": "code",
   "execution_count": 127,
   "metadata": {},
   "outputs": [
    {
     "data": {
      "text/html": [
       "<div>\n",
       "<style scoped>\n",
       "    .dataframe tbody tr th:only-of-type {\n",
       "        vertical-align: middle;\n",
       "    }\n",
       "\n",
       "    .dataframe tbody tr th {\n",
       "        vertical-align: top;\n",
       "    }\n",
       "\n",
       "    .dataframe thead th {\n",
       "        text-align: right;\n",
       "    }\n",
       "</style>\n",
       "<table border=\"1\" class=\"dataframe\">\n",
       "  <thead>\n",
       "    <tr style=\"text-align: right;\">\n",
       "      <th></th>\n",
       "      <th>OBJECTID</th>\n",
       "      <th>ID</th>\n",
       "      <th>NAME</th>\n",
       "      <th>ADDRESS</th>\n",
       "      <th>CITY</th>\n",
       "      <th>STATE</th>\n",
       "      <th>ZIP</th>\n",
       "      <th>ZIP4</th>\n",
       "      <th>TELEPHONE</th>\n",
       "      <th>TYPE</th>\n",
       "      <th>...</th>\n",
       "      <th>WEBSITE</th>\n",
       "      <th>STATE_ID</th>\n",
       "      <th>ALT_NAME</th>\n",
       "      <th>ST_FIPS</th>\n",
       "      <th>OWNER</th>\n",
       "      <th>TTL_STAFF</th>\n",
       "      <th>BEDS</th>\n",
       "      <th>TRAUMA</th>\n",
       "      <th>HELIPAD</th>\n",
       "      <th>geometry</th>\n",
       "    </tr>\n",
       "  </thead>\n",
       "  <tbody>\n",
       "    <tr>\n",
       "      <th>0</th>\n",
       "      <td>1001</td>\n",
       "      <td>0007892363</td>\n",
       "      <td>COLORADO RIVER MEDICAL CENTER</td>\n",
       "      <td>1401 BAILEY AVENUE</td>\n",
       "      <td>NEEDLES</td>\n",
       "      <td>CA</td>\n",
       "      <td>92363</td>\n",
       "      <td>NOT AVAILABLE</td>\n",
       "      <td>NOT AVAILABLE</td>\n",
       "      <td>GENERAL ACUTE CARE</td>\n",
       "      <td>...</td>\n",
       "      <td>http://www.cityofneedles.com/Hospitals.asp</td>\n",
       "      <td>NOT AVAILABLE</td>\n",
       "      <td>NOT AVAILABLE</td>\n",
       "      <td>06</td>\n",
       "      <td>GOVERNMENT - LOCAL</td>\n",
       "      <td>-999</td>\n",
       "      <td>25</td>\n",
       "      <td>NOT AVAILABLE</td>\n",
       "      <td>Y</td>\n",
       "      <td>POINT (-114.61749 34.83307)</td>\n",
       "    </tr>\n",
       "    <tr>\n",
       "      <th>1</th>\n",
       "      <td>1002</td>\n",
       "      <td>0001392120</td>\n",
       "      <td>ALVARADO HOSPITAL MEDICAL CENTER</td>\n",
       "      <td>6655 ALVARADO ROAD</td>\n",
       "      <td>SAN DIEGO</td>\n",
       "      <td>CA</td>\n",
       "      <td>92120</td>\n",
       "      <td>NOT AVAILABLE</td>\n",
       "      <td>NOT AVAILABLE</td>\n",
       "      <td>GENERAL ACUTE CARE</td>\n",
       "      <td>...</td>\n",
       "      <td>http://www.alvaradohospital.com</td>\n",
       "      <td>NOT AVAILABLE</td>\n",
       "      <td>NOT AVAILABLE</td>\n",
       "      <td>06</td>\n",
       "      <td>PROPRIETARY</td>\n",
       "      <td>-999</td>\n",
       "      <td>226</td>\n",
       "      <td>NOT AVAILABLE</td>\n",
       "      <td>N</td>\n",
       "      <td>POINT (-117.05706 32.77659)</td>\n",
       "    </tr>\n",
       "    <tr>\n",
       "      <th>2</th>\n",
       "      <td>1003</td>\n",
       "      <td>0001591942</td>\n",
       "      <td>ALVARADO PARKWAY INSTITUTE B.H.S.</td>\n",
       "      <td>7050 PARKWAY DRIVE</td>\n",
       "      <td>LA MESA</td>\n",
       "      <td>CA</td>\n",
       "      <td>91942</td>\n",
       "      <td>NOT AVAILABLE</td>\n",
       "      <td>NOT AVAILABLE</td>\n",
       "      <td>PSYCHIATRIC</td>\n",
       "      <td>...</td>\n",
       "      <td>http://www.apibhs.com</td>\n",
       "      <td>NOT AVAILABLE</td>\n",
       "      <td>NOT AVAILABLE</td>\n",
       "      <td>06</td>\n",
       "      <td>PROPRIETARY</td>\n",
       "      <td>-999</td>\n",
       "      <td>66</td>\n",
       "      <td>NOT AVAILABLE</td>\n",
       "      <td>N</td>\n",
       "      <td>POINT (-117.04416 32.77463)</td>\n",
       "    </tr>\n",
       "  </tbody>\n",
       "</table>\n",
       "<p>3 rows × 33 columns</p>\n",
       "</div>"
      ],
      "text/plain": [
       "   OBJECTID          ID                               NAME  \\\n",
       "0      1001  0007892363      COLORADO RIVER MEDICAL CENTER   \n",
       "1      1002  0001392120   ALVARADO HOSPITAL MEDICAL CENTER   \n",
       "2      1003  0001591942  ALVARADO PARKWAY INSTITUTE B.H.S.   \n",
       "\n",
       "              ADDRESS       CITY STATE    ZIP           ZIP4      TELEPHONE  \\\n",
       "0  1401 BAILEY AVENUE    NEEDLES    CA  92363  NOT AVAILABLE  NOT AVAILABLE   \n",
       "1  6655 ALVARADO ROAD  SAN DIEGO    CA  92120  NOT AVAILABLE  NOT AVAILABLE   \n",
       "2  7050 PARKWAY DRIVE    LA MESA    CA  91942  NOT AVAILABLE  NOT AVAILABLE   \n",
       "\n",
       "                 TYPE  ...                                     WEBSITE  \\\n",
       "0  GENERAL ACUTE CARE  ...  http://www.cityofneedles.com/Hospitals.asp   \n",
       "1  GENERAL ACUTE CARE  ...             http://www.alvaradohospital.com   \n",
       "2         PSYCHIATRIC  ...                       http://www.apibhs.com   \n",
       "\n",
       "        STATE_ID       ALT_NAME ST_FIPS               OWNER  TTL_STAFF  BEDS  \\\n",
       "0  NOT AVAILABLE  NOT AVAILABLE      06  GOVERNMENT - LOCAL       -999    25   \n",
       "1  NOT AVAILABLE  NOT AVAILABLE      06         PROPRIETARY       -999   226   \n",
       "2  NOT AVAILABLE  NOT AVAILABLE      06         PROPRIETARY       -999    66   \n",
       "\n",
       "          TRAUMA HELIPAD                     geometry  \n",
       "0  NOT AVAILABLE       Y  POINT (-114.61749 34.83307)  \n",
       "1  NOT AVAILABLE       N  POINT (-117.05706 32.77659)  \n",
       "2  NOT AVAILABLE       N  POINT (-117.04416 32.77463)  \n",
       "\n",
       "[3 rows x 33 columns]"
      ]
     },
     "execution_count": 127,
     "metadata": {},
     "output_type": "execute_result"
    }
   ],
   "source": [
    "gdf.head(3)"
   ]
  },
  {
   "cell_type": "code",
   "execution_count": 128,
   "metadata": {},
   "outputs": [
    {
     "data": {
      "text/plain": [
       "(277, 33)"
      ]
     },
     "execution_count": 128,
     "metadata": {},
     "output_type": "execute_result"
    }
   ],
   "source": [
    "# only NY hospitals\n",
    "gdf_ny = gdf[gdf['STATE'] == 'NY']\n",
    "gdf_ny.shape"
   ]
  },
  {
   "cell_type": "code",
   "execution_count": 129,
   "metadata": {},
   "outputs": [
    {
     "data": {
      "text/plain": [
       "<matplotlib.axes._subplots.AxesSubplot at 0x208f35d0448>"
      ]
     },
     "execution_count": 129,
     "metadata": {},
     "output_type": "execute_result"
    },
    {
     "data": {
      "image/png": "[encoded data removed]",
      "text/plain": [
       "<Figure size 432x288 with 1 Axes>"
      ]
     },
     "metadata": {
      "needs_background": "light"
     },
     "output_type": "display_data"
    }
   ],
   "source": [
    "gdf_ny.plot()"
   ]
  },
  {
   "cell_type": "code",
   "execution_count": 130,
   "metadata": {},
   "outputs": [
    {
     "data": {
      "text/plain": [
       "500     POINT (-73.11568 40.90919)\n",
       "502     POINT (-73.92771 41.71784)\n",
       "682     POINT (-74.73752 41.70906)\n",
       "1030    POINT (-73.98187 44.26725)\n",
       "1114    POINT (-73.78011 42.64581)\n",
       "                   ...            \n",
       "6396    POINT (-73.95660 40.76427)\n",
       "6797    POINT (-77.95090 42.12242)\n",
       "6801    POINT (-73.77745 42.24634)\n",
       "6824    POINT (-77.04741 42.14060)\n",
       "6826    POINT (-72.67362 40.93426)\n",
       "Name: geometry, Length: 277, dtype: geometry"
      ]
     },
     "execution_count": 130,
     "metadata": {},
     "output_type": "execute_result"
    }
   ],
   "source": [
    "gdf_ny['geometry']"
   ]
  },
  {
   "cell_type": "markdown",
   "metadata": {},
   "source": [
    "### (THREAD) Where have we seen this `POINT ( ... ) ` thing before???"
   ]
  },
  {
   "cell_type": "code",
   "execution_count": 133,
   "metadata": {},
   "outputs": [
    {
     "ename": "CPLE_AppDefinedError",
     "evalue": "b'sqlite3_exec(CREATE VIRTUAL TABLE \"rtree_NY_hospitals_geom\" USING rtree(id, minx, maxx, miny, maxy)) failed: no such module: rtree'",
     "output_type": "error",
     "traceback": [
      "\u001b[1;31m---------------------------------------------------------------------------\u001b[0m",
      "\u001b[1;31mCPLE_AppDefinedError\u001b[0m                      Traceback (most recent call last)",
      "\u001b[1;32mfiona/_err.pyx\u001b[0m in \u001b[0;36mfiona._err.GDALErrCtxManager.__exit__\u001b[1;34m()\u001b[0m\n",
      "\u001b[1;31mCPLE_AppDefinedError\u001b[0m: b'sqlite3_exec(CREATE VIRTUAL TABLE \"rtree_NY_hospitals_geom\" USING rtree(id, minx, maxx, miny, maxy)) failed: no such module: rtree'"
     ]
    },
    {
     "name": "stderr",
     "output_type": "stream",
     "text": [
      "Exception ignored in: 'fiona._shim.gdal_flush_cache'\n",
      "Traceback (most recent call last):\n",
      "  File \"fiona/_err.pyx\", line 201, in fiona._err.GDALErrCtxManager.__exit__\n",
      "fiona._err.CPLE_AppDefinedError: b'sqlite3_exec(CREATE VIRTUAL TABLE \"rtree_NY_hospitals_geom\" USING rtree(id, minx, maxx, miny, maxy)) failed: no such module: rtree'\n"
     ]
    }
   ],
   "source": [
    "# To write to GeoJSON:\n",
    "gdf_ny.to_file('data/NY_hospitals.geojson', driver = 'GeoJSON')\n",
    "\n",
    "# To write to GPKG (Geopackage):\n",
    "gdf_ny.to_file('data/NY_hospitals.gpkg', driver = 'GPKG')"
   ]
  },
  {
   "cell_type": "code",
   "execution_count": 131,
   "metadata": {},
   "outputs": [],
   "source": [
    "gdf_ny.to_file('data/NY_hospitals.shp')"
   ]
  },
  {
   "cell_type": "markdown",
   "metadata": {},
   "source": [
    "We've queried a Shapefile and then saved without having to open GIS software. \n",
    "\n",
    "#### You can now take a look at our file in QGIS or some other package!\n",
    "\n",
    "![hosp_qgis](https://raw.githubusercontent.com/pratt-savi-810/images/master/hospitals_qgis.png)"
   ]
  },
  {
   "cell_type": "markdown",
   "metadata": {},
   "source": [
    "### Plotting Hospitals on Leaflet"
   ]
  },
  {
   "cell_type": "code",
   "execution_count": 132,
   "metadata": {},
   "outputs": [
    {
     "data": {
      "text/html": [
       "<div style=\"width:100%;\"><div style=\"position:relative;width:100%;height:0;padding-bottom:60%;\"><iframe src=\"about:blank\" style=\"position:absolute;width:100%;height:100%;left:0;top:0;border:none !important;\" data-html=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 onload=\"this.contentDocument.open();this.contentDocument.write(atob(this.getAttribute('data-html')));this.contentDocument.close();\" allowfullscreen webkitallowfullscreen mozallowfullscreen></iframe></div></div>"
      ],
      "text/plain": [
       "<folium.folium.Map at 0x208f35f6b48>"
      ]
     },
     "execution_count": 132,
     "metadata": {},
     "output_type": "execute_result"
    }
   ],
   "source": [
    "# Reference: # Source https://medium.com/@bobhaffner/folium-markerclusters-and-fastmarkerclusters-1e03b01cb7b1\n",
    "\n",
    "from folium.plugins import MarkerCluster\n",
    "\n",
    "m = folium.Map(\n",
    "    location=[\n",
    "        ny_hosp['Y'].mean(), \n",
    "        ny_hosp['X'].mean()\n",
    "    ], \n",
    "    zoom_start=6,\n",
    ")\n",
    "\n",
    "mc = MarkerCluster()\n",
    "\n",
    "#creating a Marker for each point in df_sample. Each point will get a popup with their zip\n",
    "for row in ny_hosp.itertuples():\n",
    "    mc.add_child(\n",
    "        folium.Marker(\n",
    "            location=[row.Y,  row.X],\n",
    "            popup=row.NAME))\n",
    " \n",
    "    m.add_child(mc)\n",
    "    \n",
    "m   "
   ]
  },
  {
   "cell_type": "code",
   "execution_count": 134,
   "metadata": {},
   "outputs": [],
   "source": [
    "m.save('index.html')"
   ]
  },
  {
   "cell_type": "markdown",
   "metadata": {},
   "source": [
    "### See a version of the map here: \n",
    "[https://pratt-savi-810.github.io/pratt-savi-810-2020-03-lesson_03/index.html](https://pratt-savi-810.github.io/pratt-savi-810-2020-03-lesson_03/index.html)"
   ]
  },
  {
   "cell_type": "code",
   "execution_count": null,
   "metadata": {},
   "outputs": [],
   "source": []
  }
 ],
 "metadata": {
  "kernelspec": {
   "display_name": "Python 3",
   "language": "python",
   "name": "python3"
  },
  "language_info": {
   "codemirror_mode": {
    "name": "ipython",
    "version": 3
   },
   "file_extension": ".py",
   "mimetype": "text/x-python",
   "name": "python",
   "nbconvert_exporter": "python",
   "pygments_lexer": "ipython3",
   "version": "3.7.7"
  },
  "toc": {
   "base_numbering": 1,
   "nav_menu": {},
   "number_sections": false,
   "sideBar": true,
   "skip_h1_title": false,
   "title_cell": "Table of Contents",
   "title_sidebar": "Contents",
   "toc_cell": true,
   "toc_position": {
    "height": "calc(100% - 180px)",
    "left": "10px",
    "top": "150px",
    "width": "165px"
   },
   "toc_section_display": true,
   "toc_window_display": true
  }
 },
 "nbformat": 4,
 "nbformat_minor": 2
}
